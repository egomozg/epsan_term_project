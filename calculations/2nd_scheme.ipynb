{
 "cells": [
  {
   "cell_type": "markdown",
   "id": "bc496100-8fbb-4ac0-8836-b3ea9a0264aa",
   "metadata": {
    "tags": []
   },
   "source": [
    "# Оценка баланса реактивной мощности"
   ]
  },
  {
   "cell_type": "markdown",
   "id": "8e9b8328-6d5d-483d-82f9-057a840c724d",
   "metadata": {
    "tags": []
   },
   "source": [
    "## Проверка по условию выполнения БРМ в сети и определение приведенных к шинам высшего напряжения нагрузок подстанции "
   ]
  },
  {
   "cell_type": "code",
   "execution_count": 23,
   "id": "c29ee103-37fc-4e22-bc31-10f0f0432502",
   "metadata": {},
   "outputs": [],
   "source": [
    "from IPython.display import display, Math\n",
    "import numpy as np\n",
    "%store -r Q_nb_i\n",
    "%store -r S_nb_i\n",
    "%store -r Lij"
   ]
  },
  {
   "cell_type": "code",
   "execution_count": 38,
   "id": "bce1f6e9-ee9f-4e18-a957-c3621347565f",
   "metadata": {},
   "outputs": [],
   "source": [
    "#                  K1    1-3  3-2  3-4   4-5\n",
    "P_1c = np.array([122.5, 87.5, 35, 37.5, 17.5])\n",
    "L_lep = np.array([Lij[0, 1], Lij[1, 3], Lij[3, 2], Lij[3, 4], Lij[4, 5]])\n",
    "mask_p1c = [False, False, True, True, True]"
   ]
  },
  {
   "cell_type": "code",
   "execution_count": 42,
   "id": "483a0686-e1fd-4ce5-8847-45774c1682ac",
   "metadata": {
    "tags": []
   },
   "outputs": [
    {
     "name": "stdout",
     "output_type": "stream",
     "text": [
      "Q_treb_1 = 93.5\n",
      "Q_treb_2 = 33.496\n",
      "Q_c = [11.7  13.78  3.01  1.86  1.86]\n"
     ]
    }
   ],
   "source": [
    "k_odn_q = 0.98\n",
    "mask_ps = [False, True, False, True, True]\n",
    "Q_treb_1 = np.around(k_odn_q * np.sum(Q_nb_i), 1)\n",
    "print(f'Q_treb_1 = {Q_treb_1}')\n",
    "\n",
    "Q_treb_2 = 0.08 * np.sum(np.where(mask_ps, S_nb_i * 2, S_nb_i))\n",
    "print(f'Q_treb_2 = {Q_treb_2}')\n",
    "\n",
    "q_c0_220 = 0.14\n",
    "q_c0_110 = 0.036\n",
    "i = 0\n",
    "Q_c = np.zeros_like(L_lep)\n",
    "for i in range(len(L_lep)):\n",
    "    if mask_p1c[i]:\n",
    "        Q_c[i] = np.around(2 * q_c0_110 * L_lep[i], 2)\n",
    "    else:\n",
    "        Q_c[i] = np.around(2 * q_c0_220 * L_lep[i], 2)\n",
    "print(f'Q_c = {Q_c}')"
   ]
  },
  {
   "cell_type": "code",
   "execution_count": 40,
   "id": "bb0a7cc8-19a2-4f0b-bf70-fb38cbd96a07",
   "metadata": {},
   "outputs": [
    {
     "name": "stdout",
     "output_type": "stream",
     "text": [
      "delta_Q_l = [10.39  6.24  4.1   2.91  1.86]\n",
      "Q_treb_3 = -6.71 \n",
      "Q_treb_sum = 120.3\n"
     ]
    }
   ],
   "source": [
    "P_nat_220 = 130\n",
    "P_nat_110 = 30\n",
    "i = 0\n",
    "delta_Q_l = np.zeros_like(Q_c)\n",
    "for i in range(len(Q_c)):\n",
    "    if mask_p1c[i] and P_1c[i] > P_nat_110:\n",
    "        delta_Q_l[i] = np.around((P_1c[i] / P_nat_110)**2 * Q_c[i], 2)\n",
    "    elif mask_p1c[i] and P_1c[i] <= P_nat_110:\n",
    "        delta_Q_l[i] = Q_c[i]\n",
    "    else:\n",
    "        delta_Q_l[i] = np.around((P_1c[i] / P_nat_220)**2 * Q_c[i], 2)\n",
    "print(f'delta_Q_l = {delta_Q_l}')\n",
    "\n",
    "Q_treb_3 = np.around(np.sum(delta_Q_l - Q_c), 1)\n",
    "\n",
    "Q_treb_sum = np.around(Q_treb_1 + Q_treb_2 + Q_treb_3, 1)\n",
    "print(f'Q_treb_3 = {Q_treb_3} \\nQ_treb_sum = {Q_treb_sum}')"
   ]
  },
  {
   "cell_type": "markdown",
   "id": "12439783-4a64-4392-a9b8-e6b234eb027d",
   "metadata": {
    "tags": []
   },
   "source": [
    "## Расстановка КУ"
   ]
  },
  {
   "cell_type": "code",
   "execution_count": 68,
   "id": "9370c9ae-3a72-4f56-9ce5-3a694b8f66ec",
   "metadata": {},
   "outputs": [
    {
     "name": "stdout",
     "output_type": "stream",
     "text": [
      "0.253\n",
      "33.3\n",
      "[0.391 0.391 0.377 0.392 0.389]\n",
      "33.3\n"
     ]
    }
   ],
   "source": [
    "%store -r P_nb\n",
    "%store -r tg_nb_i\n",
    "q_rasp = 87\n",
    "Q_dop_sum = Q_treb_sum - q_rasp\n",
    "tg_phi_b = np.around((np.sum(Q_nb_i) - Q_dop_sum) / np.sum(P_nb), 3) # высчитываем для всех подстанций\n",
    "\n",
    "print(tg_phi_b)\n",
    "print(Q_dop_sum)\n",
    "print(tg_nb_i)\n",
    "print(np.sum(Q_comp_dop))"
   ]
  },
  {
   "cell_type": "code",
   "execution_count": 74,
   "id": "ebe0d4f0-77e5-4627-8263-6aa554d40d01",
   "metadata": {},
   "outputs": [
    {
     "name": "stdout",
     "output_type": "stream",
     "text": [
      "Q_comp_dop до округления=  [9.7 9.7 3.7 5.6 4.8]\n",
      "Q_comp_dop =  [9.7 9.7 3.5 5.6 4.8]\n",
      "N_bsk до округления =  [8.1 8.1 2.9 4.7 4. ]\n",
      "N_bsk_treb =  27.8\n",
      "N_bsk_sum =  28\n",
      "N_bsk =  [8 8 2 6 4] \n",
      "N_bsk = N_bsk_sum? --- True\n"
     ]
    }
   ],
   "source": [
    "Q_comp_dop = np.around(P_nb * (tg_nb_i - tg_phi_b), 1)\n",
    "print(\"Q_comp_dop до округления= \", Q_comp_dop)\n",
    "\n",
    "Q_comp_dop = np.array([9.7, 9.7, 3.5, 5.6, 4.8]) # Вручную округляем так, чтобы сходилась сумма Qкуi (Q_comp_dop) и Qку_суммарное (Q_dop_sum) \n",
    "print(\"Q_comp_dop = \", Q_comp_dop)\n",
    "\n",
    "N_bsk = np.around(Q_comp_dop / 1.2, 1)\n",
    "N_bsk_treb = np.around(Q_dop_sum / 1.2, 1)\n",
    "print(\"N_bsk до округления = \", N_bsk)\n",
    "\n",
    "N_bsk_sum = 28\n",
    "print(\"N_bsk_treb = \", N_bsk_treb)\n",
    "\n",
    "N_bsk = np.array([8, 8, 2, 6, 4]) # уточняем количество БСК вручную\n",
    "print(\"N_bsk_sum = \", N_bsk_sum)\n",
    "print(\"N_bsk = \", N_bsk, \"\\nN_bsk = N_bsk_sum? ---\", np.sum(N_bsk) == N_bsk_sum)"
   ]
  },
  {
   "cell_type": "code",
   "execution_count": 87,
   "id": "323446ee-e4c0-4c06-95ae-c4f73d646c85",
   "metadata": {
    "tags": []
   },
   "outputs": [
    {
     "name": "stdout",
     "output_type": "stream",
     "text": [
      "Q_bsk_dop =  [9.6 9.6 2.4 7.2 4.8] \n",
      "Q''_nb =  [17.8 17.8  8.9  8.5  8.8] \n",
      "S''_nb =  [72.2 72.2 31.3 40.9 36.1] \n",
      "Q_priv =  [23.6 23.6 70.7 11.8 11.7] \n",
      "S_priv =  [ 73.9  73.9 175.2  41.7  36.9]\n"
     ]
    }
   ],
   "source": [
    "Q_bsk_dop = N_bsk * 1.2\n",
    "Q2_nb = np.around(Q_nb_i - Q_bsk_dop, 3) # здесь Q2_nb это Q'_нбi и далее двоечка будет означать апостроф\n",
    "S2_nb = np.around(np.sqrt(P_nb**2 + Q2_nb**2), 1)\n",
    "Q_priv = np.around(Q2_nb + 0.08 * S2_nb, 1)\n",
    "S_priv = np.around(np.sqrt(P_nb**2 + Q_priv**2), 1)\n",
    "\n",
    "Q_priv[3-1] = np.around(Q2_nb[3-1] + Q_priv[3] + Q_priv[4] + Q_priv[1] + 0.08 * \n",
    "                        np.sqrt((P_nb[2] + P_nb[3] + P_nb[4] + P_nb[1])**2 + (Q2_nb[3-1] + Q_priv[3] + Q_priv[4] + Q_priv[1])**2), 1)\n",
    "S_priv[3-1] = np.around(np.sqrt((P_nb[2] + P_nb[3] + P_nb[4] + P_nb[1])**2 + Q_priv[2]), 1)\n",
    "\n",
    "print(\"Q_bsk_dop = \", Q_bsk_dop, \"\\nQ''_nb = \", Q2_nb, \"\\nS''_nb = \", S2_nb, \"\\nQ_priv = \", Q_priv, \"\\nS_priv = \", S_priv)"
   ]
  },
  {
   "cell_type": "code",
   "execution_count": 88,
   "id": "331b376d-10a6-49cf-baf1-f2c23ac0b286",
   "metadata": {
    "tags": []
   },
   "outputs": [
    {
     "data": {
      "text/latex": [
       "$\\displaystyle Q_{прив3} = Q_{нб3}^{''} + Q_{прив4} + Q_{прив5} + Q_{прив2} + 0,08 \\sqrt{(P_{нб3} + P_{нб4} + P_{нб5} + P_{нб2})^2 + (Q_{нб3}^{''} + Q_{прив4} + Q_{прив5} + Q_{прив2})^2} = \n",
       "             8.9 + 11.8 + 11.7 + 23.6 + 0,08 \\sqrt{(30 + 40 + 35 + 70)^2 + (8.9 + 11.8 + 11.7 + 23.6)^2} = 70.7$"
      ],
      "text/plain": [
       "<IPython.core.display.Math object>"
      ]
     },
     "metadata": {},
     "output_type": "display_data"
    }
   ],
   "source": [
    "display(Math(f'''Q_{{прив3}} = Q_{{нб3}}^{{''}} + Q_{{прив4}} + Q_{{прив5}} + Q_{{прив2}} + 0,08 \\sqrt{{(P_{{нб3}} + P_{{нб4}} + P_{{нб5}} + P_{{нб2}})^2 + (Q_{{нб3}}^{{''}} + Q_{{прив4}} + Q_{{прив5}} + Q_{{прив2}})^2}} = \n",
    "             {Q2_nb[3-1]} + {Q_priv[3]} + {Q_priv[4]} + {Q_priv[1]} + 0,08 \\sqrt{{({P_nb[2]} + {P_nb[3]} + {P_nb[4]} + {P_nb[1]})^2 + ({Q2_nb[3-1]} + {Q_priv[3]} + {Q_priv[4]} + {Q_priv[1]})^2}} = {Q_priv[3-1]}'''))"
   ]
  },
  {
   "cell_type": "code",
   "execution_count": 82,
   "id": "563710ee-161f-4967-8a8e-67b86a8e7ddd",
   "metadata": {},
   "outputs": [
    {
     "data": {
      "text/latex": [
       "$\\displaystyle S_{прив3} = \\sqrt{(P_{нб3} + P_{нб4} + P_{нб5} + P_{нб2})^2 + (Q_{прив3})^2} = \n",
       "                \\sqrt{(30 + 40 + 35 + 70)^2 + (70.7)^2} = 175.2$"
      ],
      "text/plain": [
       "<IPython.core.display.Math object>"
      ]
     },
     "metadata": {},
     "output_type": "display_data"
    }
   ],
   "source": [
    "display(Math(f'''S_{{прив3}} = \\sqrt{{(P_{{нб3}} + P_{{нб4}} + P_{{нб5}} + P_{{нб2}})^2 + (Q_{{прив3}})^2}} = \n",
    "                \\sqrt{{({P_nb[2]} + {P_nb[3]} + {P_nb[4]} + {P_nb[1]})^2 + ({Q_priv[2]})^2}} = {S_priv[3-1]}'''))"
   ]
  },
  {
   "cell_type": "code",
   "execution_count": 77,
   "id": "949afa3f-bcf6-44ad-8a4a-f03c3c7f03b9",
   "metadata": {},
   "outputs": [
    {
     "name": "stdout",
     "output_type": "stream",
     "text": [
      "61.80000000000001\n"
     ]
    }
   ],
   "source": [
    "print(np.sum(Q2_nb))"
   ]
  }
 ],
 "metadata": {
  "kernelspec": {
   "display_name": "Python 3 (ipykernel)",
   "language": "python",
   "name": "python3"
  },
  "language_info": {
   "codemirror_mode": {
    "name": "ipython",
    "version": 3
   },
   "file_extension": ".py",
   "mimetype": "text/x-python",
   "name": "python",
   "nbconvert_exporter": "python",
   "pygments_lexer": "ipython3",
   "version": "3.9.7"
  }
 },
 "nbformat": 4,
 "nbformat_minor": 5
}
