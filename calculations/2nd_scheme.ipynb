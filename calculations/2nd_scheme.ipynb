{
 "cells": [
  {
   "cell_type": "markdown",
   "id": "bc496100-8fbb-4ac0-8836-b3ea9a0264aa",
   "metadata": {
    "tags": []
   },
   "source": [
    "# Оценка баланса реактивной мощности"
   ]
  },
  {
   "cell_type": "markdown",
   "id": "8e9b8328-6d5d-483d-82f9-057a840c724d",
   "metadata": {
    "tags": []
   },
   "source": [
    "## Проверка по условию выполнения БРМ в сети и определение приведенных к шинам высшего напряжения нагрузок подстанции "
   ]
  },
  {
   "cell_type": "code",
   "execution_count": 17,
   "id": "c29ee103-37fc-4e22-bc31-10f0f0432502",
   "metadata": {},
   "outputs": [],
   "source": [
    "from IPython.display import display, Math\n",
    "import numpy as np\n",
    "%store -r Q_nb_i\n",
    "%store -r S_nb_i\n",
    "%store -r Lij"
   ]
  },
  {
   "cell_type": "code",
   "execution_count": 18,
   "id": "bce1f6e9-ee9f-4e18-a957-c3621347565f",
   "metadata": {},
   "outputs": [],
   "source": [
    "#                  K1    1-3  3-2  3-4   4-5\n",
    "P_1c = np.array([122.5, 87.5, 35, 37.5, 17.5])\n",
    "L_lep = np.array([Lij[0, 1], Lij[1, 3], Lij[3, 2], Lij[3, 4], Lij[4, 5]])\n",
    "mask_p1c = [False, False, True, True, True]"
   ]
  },
  {
   "cell_type": "code",
   "execution_count": 19,
   "id": "483a0686-e1fd-4ce5-8847-45774c1682ac",
   "metadata": {
    "tags": []
   },
   "outputs": [
    {
     "name": "stdout",
     "output_type": "stream",
     "text": [
      "Q_treb_1 = 93.5\n",
      "Q_treb_2 = 33.496\n",
      "Q_c = [11.7  13.78  3.01  1.86  1.86]\n"
     ]
    }
   ],
   "source": [
    "k_odn_q = 0.98\n",
    "mask_ps = [False, True, False, True, True]\n",
    "Q_treb_1 = np.around(k_odn_q * np.sum(Q_nb_i), 1)\n",
    "print(f'Q_treb_1 = {Q_treb_1}')\n",
    "\n",
    "Q_treb_2 = 0.08 * np.sum(np.where(mask_ps, S_nb_i * 2, S_nb_i))\n",
    "print(f'Q_treb_2 = {Q_treb_2}')\n",
    "\n",
    "q_c0_220 = 0.14\n",
    "q_c0_110 = 0.036\n",
    "i = 0\n",
    "Q_c = np.zeros_like(L_lep)\n",
    "for i in range(len(L_lep)):\n",
    "    if mask_p1c[i]:\n",
    "        Q_c[i] = np.around(2 * q_c0_110 * L_lep[i], 2)\n",
    "    else:\n",
    "        Q_c[i] = np.around(2 * q_c0_220 * L_lep[i], 2)\n",
    "print(f'Q_c = {Q_c}')"
   ]
  },
  {
   "cell_type": "code",
   "execution_count": 20,
   "id": "bb0a7cc8-19a2-4f0b-bf70-fb38cbd96a07",
   "metadata": {},
   "outputs": [
    {
     "name": "stdout",
     "output_type": "stream",
     "text": [
      "delta_Q_l = [10.39  6.24  4.1   2.91  1.86]\n",
      "Q_treb_3 = -6.7 \n",
      "Q_treb_sum = 120.3\n"
     ]
    }
   ],
   "source": [
    "P_nat_220 = 130\n",
    "P_nat_110 = 30\n",
    "i = 0\n",
    "delta_Q_l = np.zeros_like(Q_c)\n",
    "for i in range(len(Q_c)):\n",
    "    if mask_p1c[i] and P_1c[i] > P_nat_110:\n",
    "        delta_Q_l[i] = np.around((P_1c[i] / P_nat_110)**2 * Q_c[i], 2)\n",
    "    elif mask_p1c[i] and P_1c[i] <= P_nat_110:\n",
    "        delta_Q_l[i] = Q_c[i]\n",
    "    else:\n",
    "        delta_Q_l[i] = np.around((P_1c[i] / P_nat_220)**2 * Q_c[i], 2)\n",
    "print(f'delta_Q_l = {delta_Q_l}')\n",
    "\n",
    "Q_treb_3 = np.around(np.sum(delta_Q_l - Q_c), 1)\n",
    "\n",
    "Q_treb_sum = np.around(Q_treb_1 + Q_treb_2 + Q_treb_3, 1)\n",
    "print(f'Q_treb_3 = {Q_treb_3} \\nQ_treb_sum = {Q_treb_sum}')"
   ]
  },
  {
   "cell_type": "markdown",
   "id": "12439783-4a64-4392-a9b8-e6b234eb027d",
   "metadata": {
    "tags": []
   },
   "source": [
    "## Расстановка КУ"
   ]
  },
  {
   "cell_type": "code",
   "execution_count": 21,
   "id": "9370c9ae-3a72-4f56-9ce5-3a694b8f66ec",
   "metadata": {},
   "outputs": [
    {
     "name": "stdout",
     "output_type": "stream",
     "text": [
      "0.253\n",
      "33.3\n",
      "[0.391 0.391 0.377 0.392 0.389]\n"
     ]
    }
   ],
   "source": [
    "%store -r P_nb\n",
    "%store -r tg_nb_i\n",
    "q_rasp = 87\n",
    "Q_dop_sum = Q_treb_sum - q_rasp\n",
    "tg_phi_b = np.around((np.sum(Q_nb_i) - Q_dop_sum) / np.sum(P_nb), 3) # высчитываем для всех подстанций\n",
    "\n",
    "print(tg_phi_b)\n",
    "print(Q_dop_sum)\n",
    "print(tg_nb_i)"
   ]
  },
  {
   "cell_type": "code",
   "execution_count": 22,
   "id": "ebe0d4f0-77e5-4627-8263-6aa554d40d01",
   "metadata": {},
   "outputs": [
    {
     "name": "stdout",
     "output_type": "stream",
     "text": [
      "Q_comp_dop до округления=  [9.7 9.7 3.7 5.6 4.8]\n",
      "Q_comp_dop =  [9.7 9.7 3.5 5.6 4.8]\n",
      "N_bsk до округления =  [8.1 8.1 2.9 4.7 4. ]\n",
      "N_bsk_treb =  27.8\n",
      "N_bsk_sum =  28\n",
      "N_bsk =  [8 8 2 6 4] \n",
      "N_bsk = N_bsk_sum? --- True\n"
     ]
    }
   ],
   "source": [
    "Q_comp_dop = np.around(P_nb * (tg_nb_i - tg_phi_b), 1)\n",
    "print(\"Q_comp_dop до округления= \", Q_comp_dop)\n",
    "\n",
    "Q_comp_dop = np.array([9.7, 9.7, 3.5, 5.6, 4.8]) # Вручную округляем так, чтобы сходилась сумма Qкуi (Q_comp_dop) и Qку_суммарное (Q_dop_sum) \n",
    "print(\"Q_comp_dop = \", Q_comp_dop)\n",
    "\n",
    "N_bsk = np.around(Q_comp_dop / 1.2, 1)\n",
    "N_bsk_treb = np.around(Q_dop_sum / 1.2, 1)\n",
    "print(\"N_bsk до округления = \", N_bsk)\n",
    "\n",
    "N_bsk_sum = 28\n",
    "print(\"N_bsk_treb = \", N_bsk_treb)\n",
    "\n",
    "N_bsk = np.array([8, 8, 2, 6, 4]) # уточняем количество БСК вручную\n",
    "print(\"N_bsk_sum = \", N_bsk_sum)\n",
    "print(\"N_bsk = \", N_bsk, \"\\nN_bsk = N_bsk_sum? ---\", np.sum(N_bsk) == N_bsk_sum)"
   ]
  },
  {
   "cell_type": "code",
   "execution_count": 23,
   "id": "323446ee-e4c0-4c06-95ae-c4f73d646c85",
   "metadata": {
    "tags": []
   },
   "outputs": [
    {
     "name": "stdout",
     "output_type": "stream",
     "text": [
      "Q_bsk_dop =  [9.6 9.6 2.4 7.2 4.8] \n",
      "Q''_nb =  [17.8 17.8  8.9  8.5  8.8] \n",
      "S''_nb =  [72.2 72.2 31.3 40.9 36.1] \n",
      "Q_priv =  [23.6 23.6 70.7 11.8 11.7] \n",
      "S_priv =  [ 73.9  73.9 175.2  41.7  36.9]\n"
     ]
    }
   ],
   "source": [
    "Q_bsk_dop = N_bsk * 1.2\n",
    "Q2_nb = np.around(Q_nb_i - Q_bsk_dop, 3) # здесь Q2_nb это Q'_нбi и далее двоечка будет означать апостроф\n",
    "S2_nb = np.around(np.sqrt(P_nb**2 + Q2_nb**2), 1)\n",
    "Q_priv = np.around(Q2_nb + 0.08 * S2_nb, 1)\n",
    "S_priv = np.around(np.sqrt(P_nb**2 + Q_priv**2), 1)\n",
    "\n",
    "Q_priv[3-1] = np.around(Q2_nb[3-1] + Q_priv[3] + Q_priv[4] + Q_priv[1] + 0.08 * \n",
    "                        np.sqrt((P_nb[2] + P_nb[3] + P_nb[4] + P_nb[1])**2 + (Q2_nb[3-1] + Q_priv[3] + Q_priv[4] + Q_priv[1])**2), 1)\n",
    "S_priv[3-1] = np.around(np.sqrt((P_nb[2] + P_nb[3] + P_nb[4] + P_nb[1])**2 + Q_priv[2]), 1)\n",
    "\n",
    "print(\"Q_bsk_dop = \", Q_bsk_dop, \"\\nQ''_nb = \", Q2_nb, \"\\nS''_nb = \", S2_nb, \"\\nQ_priv = \", Q_priv, \"\\nS_priv = \", S_priv)"
   ]
  },
  {
   "cell_type": "code",
   "execution_count": 24,
   "id": "331b376d-10a6-49cf-baf1-f2c23ac0b286",
   "metadata": {
    "tags": []
   },
   "outputs": [
    {
     "data": {
      "text/latex": [
       "$\\displaystyle Q_{прив3} = Q_{нб3}^{''} + Q_{прив4} + Q_{прив5} + Q_{прив2} + 0,08 \\sqrt{(P_{нб3} + P_{нб4} + P_{нб5} + P_{нб2})^2 + (Q_{нб3}^{''} + Q_{прив4} + Q_{прив5} + Q_{прив2})^2} = \n",
       "             8.9 + 11.8 + 11.7 + 23.6 + 0,08 \\sqrt{(30 + 40 + 35 + 70)^2 + (8.9 + 11.8 + 11.7 + 23.6)^2} = 70.7$"
      ],
      "text/plain": [
       "<IPython.core.display.Math object>"
      ]
     },
     "metadata": {},
     "output_type": "display_data"
    }
   ],
   "source": [
    "display(Math(f'''Q_{{прив3}} = Q_{{нб3}}^{{''}} + Q_{{прив4}} + Q_{{прив5}} + Q_{{прив2}} + 0,08 \\sqrt{{(P_{{нб3}} + P_{{нб4}} + P_{{нб5}} + P_{{нб2}})^2 + (Q_{{нб3}}^{{''}} + Q_{{прив4}} + Q_{{прив5}} + Q_{{прив2}})^2}} = \n",
    "             {Q2_nb[3-1]} + {Q_priv[3]} + {Q_priv[4]} + {Q_priv[1]} + 0,08 \\sqrt{{({P_nb[2]} + {P_nb[3]} + {P_nb[4]} + {P_nb[1]})^2 + ({Q2_nb[3-1]} + {Q_priv[3]} + {Q_priv[4]} + {Q_priv[1]})^2}} = {Q_priv[3-1]}'''))"
   ]
  },
  {
   "cell_type": "code",
   "execution_count": 25,
   "id": "563710ee-161f-4967-8a8e-67b86a8e7ddd",
   "metadata": {},
   "outputs": [
    {
     "data": {
      "text/latex": [
       "$\\displaystyle S_{прив3} = \\sqrt{(P_{нб3} + P_{нб4} + P_{нб5} + P_{нб2})^2 + (Q_{прив3})^2} = \n",
       "                \\sqrt{(30 + 40 + 35 + 70)^2 + (70.7)^2} = 175.2$"
      ],
      "text/plain": [
       "<IPython.core.display.Math object>"
      ]
     },
     "metadata": {},
     "output_type": "display_data"
    }
   ],
   "source": [
    "display(Math(f'''S_{{прив3}} = \\sqrt{{(P_{{нб3}} + P_{{нб4}} + P_{{нб5}} + P_{{нб2}})^2 + (Q_{{прив3}})^2}} = \n",
    "                \\sqrt{{({P_nb[2]} + {P_nb[3]} + {P_nb[4]} + {P_nb[1]})^2 + ({Q_priv[2]})^2}} = {S_priv[3-1]}'''))"
   ]
  },
  {
   "cell_type": "code",
   "execution_count": 26,
   "id": "949afa3f-bcf6-44ad-8a4a-f03c3c7f03b9",
   "metadata": {},
   "outputs": [
    {
     "name": "stdout",
     "output_type": "stream",
     "text": [
      "61.8\n"
     ]
    }
   ],
   "source": [
    "print(np.sum(Q2_nb))"
   ]
  },
  {
   "cell_type": "markdown",
   "id": "3fadac50-05a1-4c15-bece-10e4ec31271e",
   "metadata": {
    "tags": []
   },
   "source": [
    "# Выбор сечений проводов линий электропередачи и их проверка по условиям технических ограничений"
   ]
  },
  {
   "cell_type": "code",
   "execution_count": 27,
   "id": "61b4cb3c-37c3-4209-bc2d-d5ab6e600a7d",
   "metadata": {},
   "outputs": [
    {
     "name": "stdout",
     "output_type": "stream",
     "text": [
      "P = [245. 175.  70.  75.  35.] \n",
      "Q = [141.8 117.8  23.6  23.5  11.7] \n",
      "S = [283.1 211.   73.9  78.6  36.9]\n",
      "I_нб_(5) =  [371.4 276.8 193.9 206.3  96.8] \n",
      "I_р =  [389.97  290.64  203.595 216.615 101.64 ] \n",
      "F_эк =  [433.3 322.9 226.2 240.7 112.9]\n"
     ]
    }
   ],
   "source": [
    "j_ek = 0.9\n",
    "alpha_i = 1.05\n",
    "#                K1   1-3    3-2   3-4  4-5\n",
    "Q = np.array([141.8, 117.8, 23.6, 23.5, 11.7])\n",
    "P = np.copy(P_1c) * 2\n",
    "\n",
    "i = 0\n",
    "I_nb_5 = np.zeros_like(L_lep)\n",
    "for i in range(len(L_lep)):\n",
    "    if mask_p1c[i]:\n",
    "        I_nb_5[i] = np.around(np.sqrt(P[i]**2 + Q[i]**2) / (np.sqrt(3) * 110 * 2) * 1000, 1)\n",
    "    else:\n",
    "        I_nb_5[i] = np.around(np.sqrt(P[i]**2 + Q[i]**2) / (np.sqrt(3) * 220 * 2) * 1000, 1)\n",
    "\n",
    "I_r = alpha_i * I_nb_5\n",
    "F_ek = np.around(I_r / j_ek, 1)\n",
    "\n",
    "print(f'P = {P} \\nQ = {Q} \\nS = {np.around(np.sqrt(P**2 + Q**2), 1)}')\n",
    "print(\"I_нб_(5) = \", I_nb_5, \"\\nI_р = \", I_r, \"\\nF_эк = \", F_ek)"
   ]
  },
  {
   "cell_type": "markdown",
   "id": "cc8c4dcf-4e63-4f6d-8b42-e80e790e119f",
   "metadata": {},
   "source": [
    "## Оценка технической осуществимости схемы"
   ]
  },
  {
   "cell_type": "code",
   "execution_count": 28,
   "id": "e68dafdc-010e-406b-8470-237f5c819a5b",
   "metadata": {
    "tags": []
   },
   "outputs": [],
   "source": [
    "R_0 = np.array([0.073, 0.096, 0.118, 0.118, 0.244])\n",
    "X_0 = np.array([0.42, 0.429, 0.405, 0.405, 0.427])\n",
    "B_0 = np.array([2.701, 2.645, 2.808, 2.808, 2.658])"
   ]
  },
  {
   "cell_type": "code",
   "execution_count": 29,
   "id": "c2df615d-f77a-485d-9420-ddeb42cccae4",
   "metadata": {
    "jupyter": {
     "source_hidden": true
    },
    "tags": []
   },
   "outputs": [],
   "source": [
    "R = np.around(R_0 * L_lep / 2, 2)\n",
    "X = np.around(X_0 * L_lep / 2, 2)\n",
    "B = np.around(B_0 * L_lep * 2 / 2, 2)"
   ]
  },
  {
   "cell_type": "code",
   "execution_count": 30,
   "id": "2abfd1d5-303c-4178-9fe9-500091babe12",
   "metadata": {},
   "outputs": [
    {
     "name": "stdout",
     "output_type": "stream",
     "text": [
      "R = [1.53 2.36 2.47 1.53 3.16] \n",
      "X = [ 8.78 10.55  8.46  5.24  5.53] \n",
      "B/2 = [112.9  130.13 117.37  72.73  68.84]\n"
     ]
    }
   ],
   "source": [
    "print(f'R = {R} \\nX = {X} \\nB/2 = {B}') "
   ]
  },
  {
   "cell_type": "markdown",
   "id": "1ee3fc7f-9af7-422a-89e8-2028b093a394",
   "metadata": {},
   "source": [
    "# Выбор трансформаторов и автотрансформаторов на подстанциях"
   ]
  },
  {
   "cell_type": "code",
   "execution_count": 31,
   "id": "98362198-12bb-44f0-9ee7-6ecec700c620",
   "metadata": {},
   "outputs": [
    {
     "name": "stdout",
     "output_type": "stream",
     "text": [
      "S''_nb = [72.2 72.2 31.3 40.9 36.1] \n",
      "S_t = [51.6 51.6 29.2 25.8]\n",
      "S_ат_1 = 91.6 \n",
      "S_ат_2 = 52.2\n",
      "S_лрт =  22.4\n"
     ]
    }
   ],
   "source": [
    "k_av = 1.4\n",
    "n_t = 2\n",
    "S_t = np.around(S2_nb / (k_av * (n_t -1)), 1)\n",
    "S_t = np.delete(S_t, 2)\n",
    "print(f\"S''_nb = {S2_nb} \\nS_t = {S_t}\")\n",
    "\n",
    "S_at_1 = np.around((np.sqrt(P_nb[2]**2 + Q2_nb[2]**2) + np.sqrt(P_nb[3]**2 + Q_priv[3]**2) + np.sqrt(P_nb[4]**2 + Q_priv[4]**2)) / (1.2 * (n_t - 1)), 1)\n",
    "S_at_2 = np.around(S2_nb[2] / (1.2 * 0.5 * (n_t - 1)), 1)\n",
    "print(f\"S_ат_1 = {S_at_1} \\nS_ат_2 = {S_at_2}\")\n",
    "\n",
    "S_lrt = np.around(S2_nb[2] / 1.4, 1)\n",
    "print('S_лрт = ', S_lrt)"
   ]
  }
 ],
 "metadata": {
  "kernelspec": {
   "display_name": "Python 3 (ipykernel)",
   "language": "python",
   "name": "python3"
  },
  "language_info": {
   "codemirror_mode": {
    "name": "ipython",
    "version": 3
   },
   "file_extension": ".py",
   "mimetype": "text/x-python",
   "name": "python",
   "nbconvert_exporter": "python",
   "pygments_lexer": "ipython3",
   "version": "3.9.7"
  }
 },
 "nbformat": 4,
 "nbformat_minor": 5
}
