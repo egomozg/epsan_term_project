{
 "cells": [
  {
   "cell_type": "markdown",
   "id": "bc496100-8fbb-4ac0-8836-b3ea9a0264aa",
   "metadata": {
    "tags": []
   },
   "source": [
    "# Оценка баланса реактивной мощности"
   ]
  },
  {
   "cell_type": "markdown",
   "id": "8e9b8328-6d5d-483d-82f9-057a840c724d",
   "metadata": {
    "tags": []
   },
   "source": [
    "## Проверка по условию выполнения БРМ в сети и определение приведенных к шинам высшего напряжения нагрузок подстанции "
   ]
  },
  {
   "cell_type": "code",
   "execution_count": 27,
   "id": "c29ee103-37fc-4e22-bc31-10f0f0432502",
   "metadata": {},
   "outputs": [],
   "source": [
    "from IPython.display import display, Math\n",
    "import numpy as np\n",
    "%store -r Q_nb_i\n",
    "%store -r S_nb_i\n",
    "%store -r Lij"
   ]
  },
  {
   "cell_type": "code",
   "execution_count": 2,
   "id": "bce1f6e9-ee9f-4e18-a957-c3621347565f",
   "metadata": {},
   "outputs": [],
   "source": [
    "#                  K1    1-3    3-2   3-4   4-5\n",
    "P_1c = np.array([125.3, 119.7, 55.3, 49.7, 37.5])\n",
    "L_lep = np.array([Lij[0, 1], Lij[1, 3], Lij[3, 2], Lij[3, 4], Lij[4, 5]])\n",
    "mask_p1c = [False, False, True, True, True]"
   ]
  },
  {
   "cell_type": "code",
   "execution_count": 3,
   "id": "483a0686-e1fd-4ce5-8847-45774c1682ac",
   "metadata": {},
   "outputs": [
    {
     "name": "stdout",
     "output_type": "stream",
     "text": [
      "Q_treb_1 = 93.5\n",
      "Q_treb_2 = 33.496\n",
      "Q_c = [11.7  13.78  3.01  1.86  1.86]\n"
     ]
    }
   ],
   "source": [
    "k_odn_q = 0.98\n",
    "mask_ps = [False, True, False, True, True]\n",
    "Q_treb_1 = np.around(k_odn_q * np.sum(Q_nb_i), 1)\n",
    "print(f'Q_treb_1 = {Q_treb_1}')\n",
    "\n",
    "Q_treb_2 = 0.08 * np.sum(np.where(mask_ps, S_nb_i * 2, S_nb_i))\n",
    "print(f'Q_treb_2 = {Q_treb_2}')\n",
    "\n",
    "q_c0_220 = 0.14\n",
    "q_c0_110 = 0.036\n",
    "i = 0\n",
    "Q_c = np.zeros_like(L_lep)\n",
    "for i in range(len(L_lep)):\n",
    "    if mask_p1c[i]:\n",
    "        Q_c[i] = np.around(2 * q_c0_110 * L_lep[i], 2)\n",
    "    else:\n",
    "        Q_c[i] = np.around(2 * q_c0_220 * L_lep[i], 2)\n",
    "print(f'Q_c = {Q_c}')"
   ]
  },
  {
   "cell_type": "code",
   "execution_count": 12,
   "id": "da9e1f69-66b7-4370-8ae9-82c0ca21da9d",
   "metadata": {},
   "outputs": [
    {
     "data": {
      "text/plain": [
       "32.209999999999994"
      ]
     },
     "execution_count": 12,
     "metadata": {},
     "output_type": "execute_result"
    }
   ],
   "source": [
    "np.sum(Q_c)"
   ]
  },
  {
   "cell_type": "code",
   "execution_count": 13,
   "id": "f076fb5b-41d8-44e6-8220-1eb290cce573",
   "metadata": {},
   "outputs": [
    {
     "data": {
      "text/plain": [
       "40.790000000000006"
      ]
     },
     "execution_count": 13,
     "metadata": {},
     "output_type": "execute_result"
    }
   ],
   "source": [
    "np.sum(delta_Q_l)"
   ]
  },
  {
   "cell_type": "code",
   "execution_count": 4,
   "id": "bb0a7cc8-19a2-4f0b-bf70-fb38cbd96a07",
   "metadata": {},
   "outputs": [
    {
     "name": "stdout",
     "output_type": "stream",
     "text": [
      "delta_Q_l = [10.87 11.68 10.23  5.1   2.91]\n",
      "Q_treb_3 = 8.6 \n",
      "Q_treb_sum = 135.6\n"
     ]
    }
   ],
   "source": [
    "P_nat_220 = 130\n",
    "P_nat_110 = 30\n",
    "i = 0\n",
    "delta_Q_l = np.zeros_like(Q_c)\n",
    "for i in range(len(Q_c)):\n",
    "    if mask_p1c[i] and P_1c[i] > P_nat_110:\n",
    "        delta_Q_l[i] = np.around((P_1c[i] / P_nat_110)**2 * Q_c[i], 2)\n",
    "    elif mask_p1c[i] and P_1c[i] <= P_nat_110:\n",
    "        delta_Q_l[i] = Q_c[i]\n",
    "    else:\n",
    "        delta_Q_l[i] = np.around((P_1c[i] / P_nat_220)**2 * Q_c[i], 2)\n",
    "print(f'delta_Q_l = {delta_Q_l}')\n",
    "\n",
    "Q_treb_3 = np.around(np.sum(delta_Q_l - Q_c), 1)\n",
    "\n",
    "Q_treb_sum = np.around(Q_treb_1 + Q_treb_2 + Q_treb_3, 1)\n",
    "print(f'Q_treb_3 = {Q_treb_3} \\nQ_treb_sum = {Q_treb_sum}')"
   ]
  },
  {
   "cell_type": "markdown",
   "id": "12439783-4a64-4392-a9b8-e6b234eb027d",
   "metadata": {
    "tags": []
   },
   "source": [
    "## Расстановка КУ"
   ]
  },
  {
   "cell_type": "code",
   "execution_count": 17,
   "id": "9370c9ae-3a72-4f56-9ce5-3a694b8f66ec",
   "metadata": {},
   "outputs": [
    {
     "name": "stdout",
     "output_type": "stream",
     "text": [
      "0.191\n",
      "0.191\n"
     ]
    }
   ],
   "source": [
    "%store -r P_nb\n",
    "%store -r tg_nb_i\n",
    "q_rasp = 87\n",
    "Q_dop_sum = Q_treb_sum - q_rasp\n",
    "tg_phi_b = np.around((np.sum(Q_nb_i) - Q_dop_sum) / np.sum(P_nb), 3) # высчитываем для всех подстанций\n",
    "print(tg_phi_b)\n",
    "tg_phi_b = np.around((np.sum(np.where(tg_nb_i < tg_phi_b, 0, Q_nb_i)) - Q_dop_sum) / np.sum(np.where(tg_nb_i < tg_phi_b, 0, P_nb)), 3) # уточняем, если на какой-то подстанции не нужно\n",
    "print(tg_phi_b)"
   ]
  },
  {
   "cell_type": "code",
   "execution_count": 15,
   "id": "e3068558-e8a6-4099-8efb-5b23ab6970a9",
   "metadata": {},
   "outputs": [
    {
     "data": {
      "text/plain": [
       "array([14. , 14. ,  5.6,  8. ,  6.9])"
      ]
     },
     "execution_count": 15,
     "metadata": {},
     "output_type": "execute_result"
    }
   ],
   "source": [
    "Q_comp_dop"
   ]
  },
  {
   "cell_type": "code",
   "execution_count": 6,
   "id": "ebe0d4f0-77e5-4627-8263-6aa554d40d01",
   "metadata": {},
   "outputs": [
    {
     "name": "stdout",
     "output_type": "stream",
     "text": [
      "Q_comp_dop =  [14.  14.   5.6  8.   6.9]\n",
      "N_bsk до округления =  [11.7 11.7  4.7  6.7  5.8]\n",
      "N_bsk_treb =  40.5\n",
      "N_bsk_sum =  42\n",
      "N_bsk =  [10 12  6  8  6] \n",
      "N_bsk = N_bsk_sum? --- True\n"
     ]
    }
   ],
   "source": [
    "Q_comp_dop = np.around(P_nb * (tg_nb_i - tg_phi_b), 1)\n",
    "print(\"Q_comp_dop = \", Q_comp_dop)\n",
    "N_bsk = np.around(Q_comp_dop / 1.2, 1)\n",
    "N_bsk_treb = np.around(Q_dop_sum / 1.2, 1)\n",
    "print(\"N_bsk до округления = \", N_bsk)\n",
    "N_bsk_sum = 42\n",
    "print(\"N_bsk_treb = \", N_bsk_treb)\n",
    "N_bsk = np.array([10, 12, 6, 8, 6]) # уточняем количество БСК вручную\n",
    "print(\"N_bsk_sum = \", N_bsk_sum)\n",
    "print(\"N_bsk = \", N_bsk, \"\\nN_bsk = N_bsk_sum? ---\", np.sum(N_bsk) == N_bsk_sum)"
   ]
  },
  {
   "cell_type": "code",
   "execution_count": 16,
   "id": "323446ee-e4c0-4c06-95ae-c4f73d646c85",
   "metadata": {
    "tags": []
   },
   "outputs": [
    {
     "name": "stdout",
     "output_type": "stream",
     "text": [
      "Q_bsk_dop =  [12.  14.4  7.2  9.6  7.2] \n",
      "Q''_nb =  [15.4 13.   4.1  6.1  6.4] \n",
      "S''_nb =  [71.7 71.2 30.3 40.5 35.6] \n",
      "Q_priv =  [21.1 18.7 55.7  9.3  9.2] \n",
      "S_priv =  [ 73.1  72.5 175.2  41.1  36.2]\n"
     ]
    }
   ],
   "source": [
    "Q_bsk_dop = N_bsk * 1.2\n",
    "Q2_nb = Q_nb_i - Q_bsk_dop # здесь Q2_nb это Q'_нбi и далее двоечка будет означать апостроф\n",
    "S2_nb = np.around(np.sqrt(P_nb**2 + Q2_nb**2), 1)\n",
    "Q_priv = np.around(Q2_nb + 0.08 * S2_nb, 1)\n",
    "S_priv = np.around(np.sqrt(P_nb**2 + Q_priv**2), 1)\n",
    "\n",
    "Q_priv[3-1] = np.around(Q2_nb[3-1] + Q_priv[3] + Q_priv[4] + Q_priv[1] + 0.08 * \n",
    "                        np.sqrt((P_nb[2] + P_nb[3] + P_nb[4] + P_nb[1])**2 + (Q2_nb[3-1] + Q_priv[3] + Q_priv[4] + Q_priv[1])**2), 1)\n",
    "S_priv[3-1] = np.around(np.sqrt((P_nb[2] + P_nb[3] + P_nb[4] + P_nb[1])**2 + Q_priv[2]), 1)\n",
    "\n",
    "print(\"Q_bsk_dop = \", Q_bsk_dop, \"\\nQ''_nb = \", Q2_nb, \"\\nS''_nb = \", S2_nb, \"\\nQ_priv = \", Q_priv, \"\\nS_priv = \", S_priv)"
   ]
  },
  {
   "cell_type": "code",
   "execution_count": 30,
   "id": "331b376d-10a6-49cf-baf1-f2c23ac0b286",
   "metadata": {
    "tags": []
   },
   "outputs": [
    {
     "data": {
      "text/latex": [
       "$\\displaystyle Q_{прив3} = Q_{нб3}^{''} + Q_{прив4} + Q_{прив5} + Q_{прив2} + 0,08 \\sqrt{(P_{нб3} + P_{нб4} + P_{нб5} + P_{нб2})^2 + (Q_{нб3}^{''} + Q_{прив4} + Q_{прив5} + Q_{прив2})^2} = \n",
       "             4.1 + 9.3 + 9.2 + 18.7 + 0,08 \\sqrt{(30 + 40 + 35 + 70)^2 + (4.1 + 9.3 + 9.2 + 18.7)^2} = 55.7$"
      ],
      "text/plain": [
       "<IPython.core.display.Math object>"
      ]
     },
     "metadata": {},
     "output_type": "display_data"
    }
   ],
   "source": [
    "display(Math(f'''Q_{{прив3}} = Q_{{нб3}}^{{''}} + Q_{{прив4}} + Q_{{прив5}} + Q_{{прив2}} + 0,08 \\sqrt{{(P_{{нб3}} + P_{{нб4}} + P_{{нб5}} + P_{{нб2}})^2 + (Q_{{нб3}}^{{''}} + Q_{{прив4}} + Q_{{прив5}} + Q_{{прив2}})^2}} = \n",
    "             {Q2_nb[3-1]} + {Q_priv[3]} + {Q_priv[4]} + {Q_priv[1]} + 0,08 \\sqrt{{({P_nb[2]} + {P_nb[3]} + {P_nb[4]} + {P_nb[1]})^2 + ({Q2_nb[3-1]} + {Q_priv[3]} + {Q_priv[4]} + {Q_priv[1]})^2}} = {Q_priv[3-1]}'''))"
   ]
  },
  {
   "cell_type": "code",
   "execution_count": 31,
   "id": "563710ee-161f-4967-8a8e-67b86a8e7ddd",
   "metadata": {},
   "outputs": [
    {
     "data": {
      "text/latex": [
       "$\\displaystyle S_{прив3} = \\sqrt{(P_{нб3} + P_{нб4} + P_{нб5} + P_{нб2})^2 + (Q_{прив3})^2} = \n",
       "                \\sqrt{(30 + 40 + 35 + 70)^2 + (55.7)^2} = 175.2$"
      ],
      "text/plain": [
       "<IPython.core.display.Math object>"
      ]
     },
     "metadata": {},
     "output_type": "display_data"
    }
   ],
   "source": [
    "display(Math(f'''S_{{прив3}} = \\sqrt{{(P_{{нб3}} + P_{{нб4}} + P_{{нб5}} + P_{{нб2}})^2 + (Q_{{прив3}})^2}} = \n",
    "                \\sqrt{{({P_nb[2]} + {P_nb[3]} + {P_nb[4]} + {P_nb[1]})^2 + ({Q_priv[2]})^2}} = {S_priv[3-1]}'''))"
   ]
  }
 ],
 "metadata": {
  "kernelspec": {
   "display_name": "Python 3 (ipykernel)",
   "language": "python",
   "name": "python3"
  },
  "language_info": {
   "codemirror_mode": {
    "name": "ipython",
    "version": 3
   },
   "file_extension": ".py",
   "mimetype": "text/x-python",
   "name": "python",
   "nbconvert_exporter": "python",
   "pygments_lexer": "ipython3",
   "version": "3.9.7"
  }
 },
 "nbformat": 4,
 "nbformat_minor": 5
}
