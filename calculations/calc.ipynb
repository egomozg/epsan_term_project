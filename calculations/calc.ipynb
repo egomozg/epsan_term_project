{
 "cells": [
  {
   "cell_type": "code",
   "execution_count": 1,
   "id": "85863790-5ddc-4919-b08d-f50c56880450",
   "metadata": {},
   "outputs": [],
   "source": [
    "import numpy as np"
   ]
  },
  {
   "cell_type": "code",
   "execution_count": 2,
   "id": "675e15ed-bc66-48f9-a39a-52cf718f2598",
   "metadata": {},
   "outputs": [],
   "source": [
    "P_nb = np.array([70, 70, 30, 40, 35])\n",
    "cos_phi_nb = np.array([0.92, 0.92, 0.91, 0.89, 0.91])"
   ]
  },
  {
   "cell_type": "code",
   "execution_count": 3,
   "id": "d7643a5f-1d86-476e-bcf0-79b3fae75e99",
   "metadata": {},
   "outputs": [
    {
     "name": "stdout",
     "output_type": "stream",
     "text": [
      "tg_phi_nb =  [0.426 0.426 0.456 0.512 0.456] \n",
      "Q_nb =  [29.8 29.8 13.7 20.5 16. ] \n",
      "S_nb =  [76.1 76.1 33.  44.9 38.5]\n"
     ]
    }
   ],
   "source": [
    "tg_phi_nb = np.around(np.tan(np.arccos(cos_phi_nb)), 3)\n",
    "Q_nb = np.around(P_nb * tg_phi_nb, 1)\n",
    "S_nb = np.around(np.sqrt(P_nb**2 + Q_nb**2), 1)\n",
    "print(\"tg_phi_nb = \", tg_phi_nb, \"\\nQ_nb = \", Q_nb, \"\\nS_nb = \", S_nb)"
   ]
  },
  {
   "cell_type": "code",
   "execution_count": 4,
   "id": "6e760576-4c36-4d88-947a-01e7cd67f0c4",
   "metadata": {},
   "outputs": [
    {
     "name": "stdout",
     "output_type": "stream",
     "text": [
      "P_nb_sum =  245 \n",
      "Q_nb_sum =  109.8 \n",
      "S_nb_sum =  268.6\n"
     ]
    }
   ],
   "source": [
    "print(\"P_nb_sum = \", np.sum(P_nb), \"\\nQ_nb_sum = \", np.sum(Q_nb), \n",
    "      \"\\nS_nb_sum = \", np.sum(S_nb))"
   ]
  },
  {
   "cell_type": "code",
   "execution_count": 5,
   "id": "bfe8ec5e-0f7c-458d-b6c6-691323acb169",
   "metadata": {},
   "outputs": [],
   "source": [
    "lijm = np.array([[0, 3.606, 4.243, 0, 0, 0],\n",
    "                 [3.606, 0, 5, 4.243, 5.385, 0],\n",
    "                 [4.243, 5, 0, 3.606, 0, 0],\n",
    "                 [0, 4.243, 3.606, 0, 2.236, 4],\n",
    "                 [0, 5.385, 0, 2.236, 0, 2.236],\n",
    "                 [0, 0, 0, 4, 2.236, 0]])\n",
    "k_udl = 1.16\n",
    "Lij = np.around(lijm * k_udl * 10, 1)"
   ]
  },
  {
   "cell_type": "code",
   "execution_count": 6,
   "id": "01c64e45-ea87-41aa-ae55-7d42aeae2cdf",
   "metadata": {},
   "outputs": [],
   "source": [
    "tg_phi_pred = 0.4\n",
    "Q_com_dev = P_nb * (tg_phi_nb - tg_phi_pred)\n",
    "def bsk_mvar(Q_com_dev):\n",
    "    i = 0\n",
    "    Q_bsk = 0\n",
    "    n = np.ceil(Q_com_dev/1.2)\n",
    "    for i in range(len(Q_com_dev)):\n",
    "        if Q_com_dev[i] % 1.2 == 0 and Q_com_dev[i] / 1.2 % 2 == 0:\n",
    "            Q_bsk = np.append(Q_bsk, Q_com_dev[i])\n",
    "        elif n[i] % 2 == 0:\n",
    "            Q_bsk = np.append(Q_bsk, n[i] * 1.2)\n",
    "        else:\n",
    "            n[i] += 1\n",
    "            Q_bsk = np.append(Q_bsk, n[i] * 1.2)\n",
    "    Q_bsk = np.delete(Q_bsk, 0)\n",
    "    return Q_bsk"
   ]
  },
  {
   "cell_type": "code",
   "execution_count": 7,
   "id": "2dd17623-81ff-4c0e-b856-6571af78f25e",
   "metadata": {},
   "outputs": [],
   "source": [
    "Q_bsk = bsk_mvar(Q_com_dev)\n",
    "Q_nb_i = Q_nb - Q_bsk"
   ]
  },
  {
   "cell_type": "code",
   "execution_count": 8,
   "id": "336f8b5a-3660-4413-9022-0677be6aea09",
   "metadata": {},
   "outputs": [
    {
     "name": "stdout",
     "output_type": "stream",
     "text": [
      "Q_com_dev =  [1.82 1.82 1.68 4.48 1.96] \n",
      "Sum =  11.8\n"
     ]
    }
   ],
   "source": [
    "print(\"Q_com_dev = \", Q_com_dev, \"\\nSum = \", np.around(np.sum(Q_com_dev), 1))"
   ]
  },
  {
   "cell_type": "code",
   "execution_count": 9,
   "id": "d97faa5a-9633-4bb2-9d4c-1821a81c676d",
   "metadata": {},
   "outputs": [
    {
     "name": "stdout",
     "output_type": "stream",
     "text": [
      "Q_bsk =  [2.4 2.4 2.4 4.8 2.4] \n",
      "Sum =  14.4\n"
     ]
    }
   ],
   "source": [
    "print(\"Q_bsk = \", Q_bsk, \"\\nSum = \", np.around(np.sum(Q_bsk), 1))"
   ]
  },
  {
   "cell_type": "code",
   "execution_count": 10,
   "id": "9e27a8ae-4fe8-4809-b46e-cbb155f222f3",
   "metadata": {},
   "outputs": [
    {
     "name": "stdout",
     "output_type": "stream",
     "text": [
      "Q_nb_i =  [27.4 27.4 11.3 15.7 13.6] \n",
      "Sum =  95.4\n"
     ]
    }
   ],
   "source": [
    "print(\"Q_nb_i = \", Q_nb_i, \"\\nSum = \", np.around(np.sum(Q_nb_i), 1))"
   ]
  },
  {
   "cell_type": "code",
   "execution_count": 26,
   "id": "08040d7c-c5da-4d39-ba35-d6c2a12f8501",
   "metadata": {},
   "outputs": [],
   "source": [
    "S_nb_i = np.around(np.sqrt(P_nb**2 + Q_nb_i**2), 1)\n",
    "tg_nb_i = np.around(Q_nb_i / P_nb, 3)"
   ]
  },
  {
   "cell_type": "code",
   "execution_count": 27,
   "id": "42da9d66-a75f-402a-9178-b9d0dccf5832",
   "metadata": {
    "tags": []
   },
   "outputs": [
    {
     "name": "stdout",
     "output_type": "stream",
     "text": [
      "Stored 'S_nb_i' (ndarray)\n",
      "Stored 'Lij' (ndarray)\n",
      "Stored 'P_nb' (ndarray)\n",
      "Stored 'tg_nb_i' (ndarray)\n",
      "Stored 'Q_nb_i' (ndarray)\n"
     ]
    }
   ],
   "source": [
    "%store S_nb_i\n",
    "%store Lij\n",
    "%store P_nb\n",
    "%store tg_nb_i\n",
    "%store Q_nb_i"
   ]
  }
 ],
 "metadata": {
  "kernelspec": {
   "display_name": "Python 3 (ipykernel)",
   "language": "python",
   "name": "python3"
  },
  "language_info": {
   "codemirror_mode": {
    "name": "ipython",
    "version": 3
   },
   "file_extension": ".py",
   "mimetype": "text/x-python",
   "name": "python",
   "nbconvert_exporter": "python",
   "pygments_lexer": "ipython3",
   "version": "3.9.7"
  }
 },
 "nbformat": 4,
 "nbformat_minor": 5
}
