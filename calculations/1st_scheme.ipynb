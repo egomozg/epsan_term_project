{
 "cells": [
  {
   "cell_type": "markdown",
   "id": "451619ec-c099-4a5e-b36c-dda84f3cb7a5",
   "metadata": {
    "tags": []
   },
   "source": [
    "# Оценка баланса реактивной мощности"
   ]
  },
  {
   "cell_type": "markdown",
   "id": "bf974dc9-69f4-417e-8e13-3c2e45b722bd",
   "metadata": {
    "tags": []
   },
   "source": [
    "## Проверка по условию выполнения БРМ в сети и определение приведенных к шинам высшего напряжения нагрузок подстанции "
   ]
  },
  {
   "cell_type": "code",
   "execution_count": 35,
   "id": "c29ee103-37fc-4e22-bc31-10f0f0432502",
   "metadata": {},
   "outputs": [],
   "source": [
    "from IPython.display import Math, display\n",
    "import numpy as np\n",
    "%store -r Q_nb_i\n",
    "%store -r S_nb_i\n",
    "%store -r Lij"
   ]
  },
  {
   "cell_type": "code",
   "execution_count": 36,
   "id": "bce1f6e9-ee9f-4e18-a957-c3621347565f",
   "metadata": {},
   "outputs": [],
   "source": [
    "#                 K1      K2    1-3   2-3   3-4  4-5\n",
    "P_1c = np.array([125.3, 119.7, 55.3, 49.7, 37.5, 17.5])\n",
    "L_kolca = np.array([Lij[0, 1], Lij[0, 2], Lij[1, 3], Lij[2, 3], Lij[3, 4], Lij[4, 5]])\n",
    "mask_p1c = [False, False, False, False, True, True]"
   ]
  },
  {
   "cell_type": "code",
   "execution_count": 37,
   "id": "483a0686-e1fd-4ce5-8847-45774c1682ac",
   "metadata": {},
   "outputs": [
    {
     "name": "stdout",
     "output_type": "stream",
     "text": [
      "Q_treb_1 = 93.5\n",
      "Q_treb_2 = 27.48\n",
      "Q_c_kolco = [5.85 6.89 6.89 5.85 1.86 1.86]\n"
     ]
    }
   ],
   "source": [
    "k_odn_q = 0.98\n",
    "mask_ps = [False, False, False, True, True]\n",
    "Q_treb_1 = np.around(k_odn_q * np.sum(Q_nb_i), 1)\n",
    "print(f'Q_treb_1 = {Q_treb_1}')\n",
    "\n",
    "Q_treb_2 = 0.08 * np.sum(np.where(mask_ps, S_nb_i * 2, S_nb_i))\n",
    "print(f'Q_treb_2 = {Q_treb_2}')\n",
    "\n",
    "q_c0_220 = 0.14\n",
    "q_c0_110 = 0.036\n",
    "i = 0\n",
    "Q_c_kolco = np.zeros_like(L_kolca)\n",
    "for i in range(len(L_kolca)):\n",
    "    if mask_p1c[i]:\n",
    "        Q_c_kolco[i] = np.around(2 * q_c0_110 * L_kolca[i], 2)\n",
    "    else:\n",
    "        Q_c_kolco[i] = np.around(q_c0_220 * L_kolca[i], 2)\n",
    "print(f'Q_c_kolco = {Q_c_kolco}')"
   ]
  },
  {
   "cell_type": "code",
   "execution_count": 38,
   "id": "51a06c46-23a8-4a3d-988e-e5f319a679e4",
   "metadata": {},
   "outputs": [
    {
     "name": "stdout",
     "output_type": "stream",
     "text": [
      "Q_c_kolco = [5.85 6.89 6.89 5.85 1.86 1.86]\n",
      "Q_treb_3 = -11.0 \n",
      "Q_treb_sum = 110.0\n"
     ]
    }
   ],
   "source": [
    "P_nat_220 = 130\n",
    "P_nat_110 = 30\n",
    "i = 0\n",
    "delta_Q_l = np.zeros_like(Q_c_kolco)\n",
    "for i in range(len(Q_c_kolco)):\n",
    "    if mask_p1c[i] and P_1c[i] > P_nat_110:\n",
    "        delta_Q_l[i] = np.around((P_1c[i] / P_nat_110)**2 * Q_c_kolco[i], 2)\n",
    "    elif mask_p1c[i] and P_1c[i] <= P_nat_110:\n",
    "        delta_Q_l[i] = Q_c_kolco[i]\n",
    "    else:\n",
    "        delta_Q_l[i] = np.around((P_1c[i] / P_nat_220)**2 * Q_c_kolco[i], 2)\n",
    "\n",
    "Q_treb_3 = np.around(np.sum(delta_Q_l - Q_c_kolco), 1)\n",
    "\n",
    "Q_treb_sum = np.around(Q_treb_1 + Q_treb_2 + Q_treb_3, 1)\n",
    "\n",
    "print(f'Q_c_kolco = {Q_c_kolco}')\n",
    "print(f'Q_treb_3 = {Q_treb_3} \\nQ_treb_sum = {Q_treb_sum}')"
   ]
  },
  {
   "cell_type": "code",
   "execution_count": 39,
   "id": "50b1e068-c72f-4b17-810d-4408a111eff1",
   "metadata": {},
   "outputs": [
    {
     "name": "stdout",
     "output_type": "stream",
     "text": [
      "L = [41.8 49.2 49.2 41.8 25.9 25.9] \n",
      "P_1c = [125.3 119.7  55.3  49.7  37.5  17.5] \n",
      "Q_c = [5.85 6.89 6.89 5.85 1.86 1.86] \n",
      "delta_Q_l = [5.43 5.84 1.25 0.86 2.91 1.86]\n",
      "16.29\n"
     ]
    }
   ],
   "source": [
    "print(f'L = {L_kolca} \\nP_1c = {P_1c} \\nQ_c = {Q_c_kolco} \\ndelta_Q_l = {delta_Q_l}')\n",
    "print(np.sum(delta_Q_l) - delta_Q_l[5])"
   ]
  },
  {
   "cell_type": "markdown",
   "id": "6a08081a-679a-4e9b-808c-b5d7f1459abf",
   "metadata": {
    "tags": []
   },
   "source": [
    "## Расстановка КУ"
   ]
  },
  {
   "cell_type": "code",
   "execution_count": 103,
   "id": "70f652e4-8e15-4d1e-90ca-a714c4ca870d",
   "metadata": {},
   "outputs": [
    {
     "name": "stdout",
     "output_type": "stream",
     "text": [
      "0.296\n",
      "23.0\n",
      "[0.391 0.391 0.377 0.392 0.389]\n"
     ]
    }
   ],
   "source": [
    "%store -r P_nb\n",
    "%store -r tg_nb_i\n",
    "q_rasp = 87\n",
    "Q_dop_sum = Q_treb_sum - q_rasp\n",
    "tg_phi_b = np.around((np.sum(Q_nb_i) - Q_dop_sum) / np.sum(P_nb), 3) # высчитываем для всех подстанций\n",
    "\n",
    "print(tg_phi_b)\n",
    "print(Q_dop_sum)\n",
    "print(tg_nb_i)"
   ]
  },
  {
   "cell_type": "code",
   "execution_count": 98,
   "id": "67658767-123f-42ad-a30a-da15ae151fa5",
   "metadata": {},
   "outputs": [
    {
     "name": "stdout",
     "output_type": "stream",
     "text": [
      "Q_comp_dop до округления вручную =  [6.65 6.65 2.43 3.84 3.26]\n",
      "Q_comp_dop =  [6.65 6.65 2.5  3.9  3.3 ]\n",
      "N_bsk до округления =  [5.54 5.54 2.08 3.25 2.75]\n",
      "N_bsk_treb =  19.166666666666668\n",
      "N_bsk_sum =  20\n",
      "N_bsk =  [6 6 2 4 2] \n",
      "N_bsk = N_bsk_sum? --- True\n"
     ]
    }
   ],
   "source": [
    "Q_comp_dop = np.around(P_nb * (tg_nb_i - tg_phi_b), 2)\n",
    "print(\"Q_comp_dop до округления вручную = \", Q_comp_dop)\n",
    "\n",
    "Q_comp_dop = np.array([6.65, 6.65, 2.5, 3.9, 3.3]) # Вручную округляем так, чтобы сходилась сумма Qкуi (Q_comp_dop) и Qку_суммарное (Q_dop_sum) \n",
    "print(\"Q_comp_dop = \", Q_comp_dop)\n",
    "\n",
    "N_bsk = np.around(Q_comp_dop / 1.2, 2)\n",
    "N_bsk_treb = np.sum(Q_comp_dop) / 1.2\n",
    "\n",
    "print(\"N_bsk до округления = \", N_bsk)\n",
    "\n",
    "N_bsk_sum = 20\n",
    "\n",
    "print(\"N_bsk_treb = \", N_bsk_treb)\n",
    "\n",
    "N_bsk = np.array([6, 6, 2, 4, 2]) # уточняем количество БСК вручную\n",
    "\n",
    "print(\"N_bsk_sum = \", N_bsk_sum)\n",
    "print(\"N_bsk = \", N_bsk, \"\\nN_bsk = N_bsk_sum? ---\", np.sum(N_bsk) == N_bsk_sum)"
   ]
  },
  {
   "cell_type": "code",
   "execution_count": 99,
   "id": "3ef665f8-3a3a-4750-9108-675a9c731e50",
   "metadata": {
    "tags": []
   },
   "outputs": [
    {
     "name": "stdout",
     "output_type": "stream",
     "text": [
      "Q_bsk_dop =  [7.2 7.2 2.4 4.8 2.4] \n",
      "Q''_nb =  [20.2 20.2  8.9 10.9 11.2] \n",
      "S''_nb =  [72.9 72.9 31.3 41.5 36.7] \n",
      "Q_priv =  [26.  26.  46.1 14.2 14.1] \n",
      "S_priv =  [ 74.7  74.7 105.2  42.4  37.7]\n"
     ]
    }
   ],
   "source": [
    "Q_bsk_dop = N_bsk * 1.2\n",
    "Q2_nb = np.around(Q_nb_i - Q_bsk_dop, 1) # здесь Q2_nb это Q''_нбi и далее двоечка будет означать апостроф\n",
    "S2_nb = np.around(np.sqrt(P_nb**2 + Q2_nb**2), 1)\n",
    "Q_priv = np.around(Q2_nb + 0.08 * S2_nb, 1)\n",
    "S_priv = np.around(np.sqrt(P_nb**2 + Q_priv**2), 1)\n",
    "\n",
    "Q_priv[3-1] = np.around(Q2_nb[3-1] + Q_priv[3] + Q_priv[4] + 0.08 * np.sqrt((P_nb[2] + P_nb[3] + P_nb[4])**2 + (Q2_nb[3-1] + Q_priv[3] + Q_priv[4])**2), 1)\n",
    "S_priv[3-1] = np.around(np.sqrt((P_nb[2] + P_nb[3] + P_nb[4])**2 + Q_priv[2]), 1)\n",
    "\n",
    "print(\"Q_bsk_dop = \", Q_bsk_dop, \"\\nQ''_nb = \", Q2_nb, \"\\nS''_nb = \", S2_nb, \"\\nQ_priv = \", Q_priv, \"\\nS_priv = \", S_priv)"
   ]
  },
  {
   "cell_type": "code",
   "execution_count": 102,
   "id": "b3a80b35-0237-4873-9066-c88f9b2d8f5c",
   "metadata": {},
   "outputs": [
    {
     "data": {
      "text/plain": [
       "71.39999999999999"
      ]
     },
     "execution_count": 102,
     "metadata": {},
     "output_type": "execute_result"
    }
   ],
   "source": [
    "np.sum(Q2_nb)"
   ]
  },
  {
   "cell_type": "code",
   "execution_count": 89,
   "id": "331b376d-10a6-49cf-baf1-f2c23ac0b286",
   "metadata": {
    "tags": []
   },
   "outputs": [
    {
     "data": {
      "text/latex": [
       "$\\displaystyle Q_{прив3} = Q_{нб3}^{''} + Q_{прив4} + Q_{прив5} + 0,08 \\sqrt{(P_{нб3} + P_{нб4} + P_{прив5})^2 + (Q_{нб3}^{''} + Q_{прив4} + Q_{прив5})^2} = \n",
       "             8.9 + 14.2 + 14.1 + 0,08 \\sqrt{(30 + 40 + 35)^2 + (8.9 + 14.2 + 14.1)^2} = 46.1$"
      ],
      "text/plain": [
       "<IPython.core.display.Math object>"
      ]
     },
     "metadata": {},
     "output_type": "display_data"
    }
   ],
   "source": [
    "display(Math(f'''Q_{{прив3}} = Q_{{нб3}}^{{''}} + Q_{{прив4}} + Q_{{прив5}} + 0,08 \\sqrt{{(P_{{нб3}} + P_{{нб4}} + P_{{прив5}})^2 + (Q_{{нб3}}^{{''}} + Q_{{прив4}} + Q_{{прив5}})^2}} = \n",
    "             {Q2_nb[3-1]} + {Q_priv[3]} + {Q_priv[4]} + 0,08 \\sqrt{{({P_nb[2]} + {P_nb[3]} + {P_nb[4]})^2 + ({Q2_nb[3-1]} + {Q_priv[3]} + {Q_priv[4]})^2}} = {Q_priv[3-1]}'''))"
   ]
  },
  {
   "cell_type": "code",
   "execution_count": 90,
   "id": "563710ee-161f-4967-8a8e-67b86a8e7ddd",
   "metadata": {},
   "outputs": [
    {
     "data": {
      "text/latex": [
       "$\\displaystyle S_{прив3} = \\sqrt{(P_{нб3} + P_{нб4} + P_{нб5})^2 + (Q_{прив3})^2} = \n",
       "                \\sqrt{(30 + 40 + 35)^2 + (46.1)^2} = 105.2$"
      ],
      "text/plain": [
       "<IPython.core.display.Math object>"
      ]
     },
     "metadata": {},
     "output_type": "display_data"
    }
   ],
   "source": [
    "display(Math(f'''S_{{прив3}} = \\sqrt{{(P_{{нб3}} + P_{{нб4}} + P_{{нб5}})^2 + (Q_{{прив3}})^2}} = \n",
    "                \\sqrt{{({P_nb[2]} + {P_nb[3]} + {P_nb[4]})^2 + ({Q_priv[2]})^2}} = {S_priv[3-1]}'''))"
   ]
  }
 ],
 "metadata": {
  "kernelspec": {
   "display_name": "Python 3 (ipykernel)",
   "language": "python",
   "name": "python3"
  },
  "language_info": {
   "codemirror_mode": {
    "name": "ipython",
    "version": 3
   },
   "file_extension": ".py",
   "mimetype": "text/x-python",
   "name": "python",
   "nbconvert_exporter": "python",
   "pygments_lexer": "ipython3",
   "version": "3.9.7"
  }
 },
 "nbformat": 4,
 "nbformat_minor": 5
}
