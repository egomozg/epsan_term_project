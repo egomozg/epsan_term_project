{
 "cells": [
  {
   "cell_type": "markdown",
   "id": "451619ec-c099-4a5e-b36c-dda84f3cb7a5",
   "metadata": {
    "tags": []
   },
   "source": [
    "# Оценка баланса реактивной мощности"
   ]
  },
  {
   "cell_type": "markdown",
   "id": "bf974dc9-69f4-417e-8e13-3c2e45b722bd",
   "metadata": {
    "tags": []
   },
   "source": [
    "## Проверка по условию выполнения БРМ в сети и определение приведенных к шинам высшего напряжения нагрузок подстанции "
   ]
  },
  {
   "cell_type": "code",
   "execution_count": 2,
   "id": "c29ee103-37fc-4e22-bc31-10f0f0432502",
   "metadata": {},
   "outputs": [],
   "source": [
    "from IPython.display import Math, display\n",
    "import numpy as np\n",
    "%store -r Q_nb_i\n",
    "%store -r S_nb_i\n",
    "%store -r Lij"
   ]
  },
  {
   "cell_type": "code",
   "execution_count": 3,
   "id": "bce1f6e9-ee9f-4e18-a957-c3621347565f",
   "metadata": {},
   "outputs": [
    {
     "data": {
      "text/plain": [
       "array([41.8, 49.2, 49.2, 41.8, 25.9, 25.9])"
      ]
     },
     "execution_count": 3,
     "metadata": {},
     "output_type": "execute_result"
    }
   ],
   "source": [
    "#                 K1      K2    1-3   2-3   3-4  4-5\n",
    "P_1c = np.array([125.3, 119.7, 55.3, 49.7, 37.5, 17.5])\n",
    "L_kolca = np.array([Lij[0, 1], Lij[0, 2], Lij[1, 3], Lij[2, 3], Lij[3, 4], Lij[4, 5]])\n",
    "mask_p1c = [False, False, False, False, True, True]\n",
    "L_kolca"
   ]
  },
  {
   "cell_type": "code",
   "execution_count": 4,
   "id": "483a0686-e1fd-4ce5-8847-45774c1682ac",
   "metadata": {},
   "outputs": [
    {
     "name": "stdout",
     "output_type": "stream",
     "text": [
      "Q_treb_1 = 93.5\n",
      "Q_treb_2 = 27.48\n",
      "Q_c_kolco = [5.85 6.89 6.89 5.85 1.86 1.86]\n"
     ]
    }
   ],
   "source": [
    "k_odn_q = 0.98\n",
    "mask_ps = [False, False, False, True, True]\n",
    "Q_treb_1 = np.around(k_odn_q * np.sum(Q_nb_i), 1)\n",
    "print(f'Q_treb_1 = {Q_treb_1}')\n",
    "\n",
    "Q_treb_2 = 0.08 * np.sum(np.where(mask_ps, S_nb_i * 2, S_nb_i))\n",
    "print(f'Q_treb_2 = {Q_treb_2}')\n",
    "\n",
    "q_c0_220 = 0.14\n",
    "q_c0_110 = 0.036\n",
    "i = 0\n",
    "Q_c_kolco = np.zeros_like(L_kolca)\n",
    "for i in range(len(L_kolca)):\n",
    "    if mask_p1c[i]:\n",
    "        Q_c_kolco[i] = np.around(2 * q_c0_110 * L_kolca[i], 2)\n",
    "    else:\n",
    "        Q_c_kolco[i] = np.around(q_c0_220 * L_kolca[i], 2)\n",
    "print(f'Q_c_kolco = {Q_c_kolco}')"
   ]
  },
  {
   "cell_type": "code",
   "execution_count": 5,
   "id": "51a06c46-23a8-4a3d-988e-e5f319a679e4",
   "metadata": {},
   "outputs": [
    {
     "name": "stdout",
     "output_type": "stream",
     "text": [
      "Q_c_kolco = [5.85 6.89 6.89 5.85 1.86 1.86]\n",
      "Q_treb_3 = -11.0 \n",
      "Q_treb_sum = 110.0\n"
     ]
    }
   ],
   "source": [
    "P_nat_220 = 130\n",
    "P_nat_110 = 30\n",
    "i = 0\n",
    "delta_Q_l = np.zeros_like(Q_c_kolco)\n",
    "for i in range(len(Q_c_kolco)):\n",
    "    if mask_p1c[i] and P_1c[i] > P_nat_110:\n",
    "        delta_Q_l[i] = np.around((P_1c[i] / P_nat_110)**2 * Q_c_kolco[i], 2)\n",
    "    elif mask_p1c[i] and P_1c[i] <= P_nat_110:\n",
    "        delta_Q_l[i] = Q_c_kolco[i]\n",
    "    else:\n",
    "        delta_Q_l[i] = np.around((P_1c[i] / P_nat_220)**2 * Q_c_kolco[i], 2)\n",
    "\n",
    "Q_treb_3 = np.around(np.sum(delta_Q_l - Q_c_kolco), 1)\n",
    "\n",
    "Q_treb_sum = np.around(Q_treb_1 + Q_treb_2 + Q_treb_3, 1)\n",
    "\n",
    "print(f'Q_c_kolco = {Q_c_kolco}')\n",
    "print(f'Q_treb_3 = {Q_treb_3} \\nQ_treb_sum = {Q_treb_sum}')"
   ]
  },
  {
   "cell_type": "code",
   "execution_count": 6,
   "id": "50b1e068-c72f-4b17-810d-4408a111eff1",
   "metadata": {},
   "outputs": [
    {
     "name": "stdout",
     "output_type": "stream",
     "text": [
      "L = [41.8 49.2 49.2 41.8 25.9 25.9] \n",
      "P_1c = [125.3 119.7  55.3  49.7  37.5  17.5] \n",
      "Q_c = [5.85 6.89 6.89 5.85 1.86 1.86] \n",
      "delta_Q_l = [5.43 5.84 1.25 0.86 2.91 1.86]\n",
      "16.29\n"
     ]
    }
   ],
   "source": [
    "print(f'L = {L_kolca} \\nP_1c = {P_1c} \\nQ_c = {Q_c_kolco} \\ndelta_Q_l = {delta_Q_l}')\n",
    "print(np.sum(delta_Q_l) - delta_Q_l[5])"
   ]
  },
  {
   "cell_type": "markdown",
   "id": "6a08081a-679a-4e9b-808c-b5d7f1459abf",
   "metadata": {
    "tags": []
   },
   "source": [
    "## Расстановка КУ"
   ]
  },
  {
   "cell_type": "code",
   "execution_count": 7,
   "id": "70f652e4-8e15-4d1e-90ca-a714c4ca870d",
   "metadata": {},
   "outputs": [
    {
     "name": "stdout",
     "output_type": "stream",
     "text": [
      "0.296\n",
      "23.0\n",
      "[0.391 0.391 0.377 0.392 0.389]\n"
     ]
    }
   ],
   "source": [
    "%store -r P_nb\n",
    "%store -r tg_nb_i\n",
    "q_rasp = 87\n",
    "Q_dop_sum = Q_treb_sum - q_rasp\n",
    "tg_phi_b = np.around((np.sum(Q_nb_i) - Q_dop_sum) / np.sum(P_nb), 3) # высчитываем для всех подстанций\n",
    "\n",
    "print(tg_phi_b)\n",
    "print(Q_dop_sum)\n",
    "print(tg_nb_i)"
   ]
  },
  {
   "cell_type": "code",
   "execution_count": 8,
   "id": "67658767-123f-42ad-a30a-da15ae151fa5",
   "metadata": {},
   "outputs": [
    {
     "name": "stdout",
     "output_type": "stream",
     "text": [
      "Q_comp_dop до округления вручную =  [6.65 6.65 2.43 3.84 3.26]\n",
      "Q_comp_dop =  [6.65 6.65 2.5  3.9  3.3 ]\n",
      "N_bsk до округления =  [5.54 5.54 2.08 3.25 2.75]\n",
      "N_bsk_treb =  19.166666666666668\n",
      "N_bsk_sum =  20\n",
      "N_bsk =  [6 6 2 4 2] \n",
      "N_bsk = N_bsk_sum? --- True\n"
     ]
    }
   ],
   "source": [
    "Q_comp_dop = np.around(P_nb * (tg_nb_i - tg_phi_b), 2)\n",
    "print(\"Q_comp_dop до округления вручную = \", Q_comp_dop)\n",
    "\n",
    "Q_comp_dop = np.array([6.65, 6.65, 2.5, 3.9, 3.3]) # Вручную округляем так, чтобы сходилась сумма Qкуi (Q_comp_dop) и Qку_суммарное (Q_dop_sum) \n",
    "print(\"Q_comp_dop = \", Q_comp_dop)\n",
    "\n",
    "N_bsk = np.around(Q_comp_dop / 1.2, 2)\n",
    "N_bsk_treb = np.sum(Q_comp_dop) / 1.2\n",
    "\n",
    "print(\"N_bsk до округления = \", N_bsk)\n",
    "\n",
    "N_bsk_sum = 20\n",
    "\n",
    "print(\"N_bsk_treb = \", N_bsk_treb)\n",
    "\n",
    "N_bsk = np.array([6, 6, 2, 4, 2]) # уточняем количество БСК вручную\n",
    "\n",
    "print(\"N_bsk_sum = \", N_bsk_sum)\n",
    "print(\"N_bsk = \", N_bsk, \"\\nN_bsk = N_bsk_sum? ---\", np.sum(N_bsk) == N_bsk_sum)"
   ]
  },
  {
   "cell_type": "code",
   "execution_count": 9,
   "id": "3ef665f8-3a3a-4750-9108-675a9c731e50",
   "metadata": {
    "tags": []
   },
   "outputs": [
    {
     "name": "stdout",
     "output_type": "stream",
     "text": [
      "Q_bsk_dop =  [7.2 7.2 2.4 4.8 2.4] \n",
      "Q''_nb =  [20.2 20.2  8.9 10.9 11.2] \n",
      "S''_nb =  [72.9 72.9 31.3 41.5 36.7] \n",
      "Q_priv =  [26.  26.  46.1 14.2 14.1] \n",
      "S_priv =  [ 74.7  74.7 114.7  42.4  37.7]\n"
     ]
    }
   ],
   "source": [
    "Q_bsk_dop = N_bsk * 1.2\n",
    "Q2_nb = np.around(Q_nb_i - Q_bsk_dop, 1) # здесь Q2_nb это Q''_нбi и далее двоечка будет означать апостроф\n",
    "S2_nb = np.around(np.sqrt(P_nb**2 + Q2_nb**2), 1)\n",
    "Q_priv = np.around(Q2_nb + 0.08 * S2_nb, 1)\n",
    "S_priv = np.around(np.sqrt(P_nb**2 + Q_priv**2), 1)\n",
    "\n",
    "Q_priv[3-1] = np.around(Q2_nb[3-1] + Q_priv[3] + Q_priv[4] + 0.08 * np.sqrt((P_nb[2] + P_nb[3] + P_nb[4])**2 + (Q2_nb[3-1] + Q_priv[3] + Q_priv[4])**2), 1)\n",
    "S_priv[3-1] = np.around(np.sqrt((P_nb[2] + P_nb[3] + P_nb[4])**2 + Q_priv[2]**2), 1)\n",
    "\n",
    "print(\"Q_bsk_dop = \", Q_bsk_dop, \"\\nQ''_nb = \", Q2_nb, \"\\nS''_nb = \", S2_nb, \"\\nQ_priv = \", Q_priv, \"\\nS_priv = \", S_priv)"
   ]
  },
  {
   "cell_type": "code",
   "execution_count": 25,
   "id": "331b376d-10a6-49cf-baf1-f2c23ac0b286",
   "metadata": {
    "tags": []
   },
   "outputs": [
    {
     "data": {
      "text/latex": [
       "$\\displaystyle Q_{прив3} = Q_{нб3}^{''} + Q_{прив4} + Q_{прив5} + 0,08 \\sqrt{(P_{нб3} + P_{нб4} + P_{прив5})^2 + (Q_{нб3}^{''} + Q_{прив4} + Q_{прив5})^2} = \n",
       "             8.9 + 14.2 + 14.1 + 0,08 \\sqrt{(30 + 40 + 35)^2 + (8.9 + 14.2 + 14.1)^2} = 46.1$"
      ],
      "text/plain": [
       "<IPython.core.display.Math object>"
      ]
     },
     "metadata": {},
     "output_type": "display_data"
    }
   ],
   "source": [
    "display(Math(f'''Q_{{прив3}} = Q_{{нб3}}^{{''}} + Q_{{прив4}} + Q_{{прив5}} + 0,08 \\sqrt{{(P_{{нб3}} + P_{{нб4}} + P_{{прив5}})^2 + (Q_{{нб3}}^{{''}} + Q_{{прив4}} + Q_{{прив5}})^2}} = \n",
    "             {Q2_nb[3-1]} + {Q_priv[3]} + {Q_priv[4]} + 0,08 \\sqrt{{({P_nb[2]} + {P_nb[3]} + {P_nb[4]})^2 + ({Q2_nb[3-1]} + {Q_priv[3]} + {Q_priv[4]})^2}} = {Q_priv[3-1]}'''))"
   ]
  },
  {
   "cell_type": "code",
   "execution_count": 27,
   "id": "563710ee-161f-4967-8a8e-67b86a8e7ddd",
   "metadata": {},
   "outputs": [
    {
     "data": {
      "text/latex": [
       "$\\displaystyle S_{прив3} = \\sqrt{(P_{нб3} + P_{нб4} + P_{нб5})^2 + (Q_{прив3})^2} = \n",
       "                \\sqrt{(30 + 40 + 35)^2 + (46.1)^2} = 114.7$"
      ],
      "text/plain": [
       "<IPython.core.display.Math object>"
      ]
     },
     "metadata": {},
     "output_type": "display_data"
    }
   ],
   "source": [
    "display(Math(f'''S_{{прив3}} = \\sqrt{{(P_{{нб3}} + P_{{нб4}} + P_{{нб5}})^2 + (Q_{{прив3}})^2}} = \n",
    "                \\sqrt{{({P_nb[2]} + {P_nb[3]} + {P_nb[4]})^2 + ({Q_priv[2]})^2}} = {S_priv[3-1]}'''))"
   ]
  },
  {
   "cell_type": "markdown",
   "id": "2aa84c9c-39af-4c6c-aebb-1ecf3e20cc69",
   "metadata": {
    "tags": []
   },
   "source": [
    "# Выбор сечений проводов линий электропередачи и их проверка по условиям технических ограничений"
   ]
  },
  {
   "cell_type": "code",
   "execution_count": 12,
   "id": "61b4cb3c-37c3-4209-bc2d-d5ab6e600a7d",
   "metadata": {},
   "outputs": [
    {
     "name": "stdout",
     "output_type": "stream",
     "text": [
      "P = [125.3 119.7  55.3  49.7  75.   35. ] \n",
      "Q = [50.1 48.  24.1 22.  28.3 14.1] \n",
      "S = [134.9 129.   60.3  54.4  80.2  37.7]\n",
      "I_нб_(5) =  [354.1 338.4 158.3 142.6 210.4  99. ] \n",
      "I_р =  [371.805 355.32  166.215 149.73  220.92  103.95 ] \n",
      "F_эк =  [413.1 394.8 184.7 166.4 245.5 115.5]\n"
     ]
    }
   ],
   "source": [
    "j_ek = 0.9\n",
    "alpha_i = 1.05\n",
    "#              K1   K2   1-3  2-3  3-4   4-5\n",
    "Q = np.array([50.1, 48, 24.1, 22, 28.3, 14.1])\n",
    "P = np.copy(P_1c)\n",
    "P[mask_p1c] = P_1c[mask_p1c] * 2\n",
    "\n",
    "i = 0\n",
    "I_nb_5 = np.zeros_like(L_kolca)\n",
    "for i in range(len(L_kolca)):\n",
    "    if mask_p1c[i]:\n",
    "        I_nb_5[i] = np.around(np.sqrt(P[i]**2 + Q[i]**2) / (np.sqrt(3) * 110 * 2) * 1000, 1)\n",
    "    else:\n",
    "        I_nb_5[i] = np.around(np.sqrt(P[i]**2 + Q[i]**2) / (np.sqrt(3) * 220 * 1) * 1000, 1)\n",
    "\n",
    "I_r = alpha_i * I_nb_5\n",
    "F_ek = np.around(I_r / j_ek, 1)\n",
    "\n",
    "print(f'P = {P} \\nQ = {Q} \\nS = {np.around(np.sqrt(P**2 + Q**2), 1)}')\n",
    "print(\"I_нб_(5) = \", I_nb_5, \"\\nI_р = \", I_r, \"\\nF_эк = \", F_ek)"
   ]
  },
  {
   "cell_type": "markdown",
   "id": "ca61b018-c91f-4f6d-8cc3-57f3e84b44fe",
   "metadata": {
    "jp-MarkdownHeadingCollapsed": true,
    "tags": []
   },
   "source": [
    "## Проверка по условию длительно допустимого нагрева"
   ]
  },
  {
   "cell_type": "code",
   "execution_count": 13,
   "id": "b9c8ecd7-92e9-485f-810b-609d5b3d0686",
   "metadata": {},
   "outputs": [
    {
     "name": "stdout",
     "output_type": "stream",
     "text": [
      "[1113.75 1113.75  816.75  816.75  816.75  526.5 ]\n"
     ]
    }
   ],
   "source": [
    "k_t = 1.35\n",
    "I_dl_dop = np.array([825, 825, 605, 605, 605, 390]) # эти значения зависят от марки провода и определяются по п. 1.3.29 ПУЭ\n",
    "I_dl_dop_cor = I_dl_dop * k_t\n",
    "print(I_dl_dop_cor)"
   ]
  },
  {
   "cell_type": "markdown",
   "id": "0d991280-7c7d-493b-be7b-c863737de72b",
   "metadata": {
    "tags": []
   },
   "source": [
    "## Оценка технической осуществимости схемы"
   ]
  },
  {
   "cell_type": "code",
   "execution_count": 14,
   "id": "f4dfe650-0ad7-43f2-ac90-c101e2595766",
   "metadata": {
    "tags": []
   },
   "outputs": [],
   "source": [
    "R_0 = np.array([0.073, 0.073, 0.118, 0.118, 0.118, 0.244])\n",
    "X_0 = np.array([0.42, 0.42, 0.435, 0.435, 0.405, 0.427])\n",
    "B_0 = np.array([2.701, 2.701, 2.604, 2.604, 2.808, 2.658])"
   ]
  },
  {
   "cell_type": "code",
   "execution_count": 15,
   "id": "0fbfbd0b-f250-4570-bf87-4ef7965d13e4",
   "metadata": {
    "tags": []
   },
   "outputs": [],
   "source": [
    "i = 0\n",
    "R = np.zeros_like(L_kolca)\n",
    "for i in range (len(L_kolca)):\n",
    "    if mask_p1c[i]:\n",
    "        R[i] = np.around(R_0[i] * L_kolca[i] / 2, 2)\n",
    "    else:\n",
    "        R[i] = np.around(R_0[i] * L_kolca[i], 2)\n",
    "\n",
    "i = 0\n",
    "X = np.zeros_like(L_kolca)\n",
    "for i in range (len(L_kolca)):\n",
    "    if mask_p1c[i]:\n",
    "        X[i] = np.around(X_0[i] * L_kolca[i] / 2, 2)\n",
    "    else:\n",
    "        X[i] = np.around(X_0[i] * L_kolca[i], 2)\n",
    "        \n",
    "i = 0\n",
    "B = np.zeros_like(L_kolca)\n",
    "for i in range (len(L_kolca)):\n",
    "    if mask_p1c[i]:\n",
    "        B[i] = np.around(B_0[i] * L_kolca[i] * 2 / 2, 2)\n",
    "    else:\n",
    "        B[i] = np.around(B_0[i] * L_kolca[i] / 2, 2)"
   ]
  },
  {
   "cell_type": "code",
   "execution_count": 16,
   "id": "30f29591-89aa-4d25-9f22-fe8a067fee1a",
   "metadata": {},
   "outputs": [
    {
     "name": "stdout",
     "output_type": "stream",
     "text": [
      "R = [3.05 3.59 5.81 4.93 1.53 3.16] \n",
      "X = [17.56 20.66 21.4  18.18  5.24  5.53] \n",
      "B/2 = [56.45 66.44 64.06 54.42 72.73 68.84] \n",
      "B = [112.9  132.88 128.12 108.84 145.46 137.68]\n"
     ]
    }
   ],
   "source": [
    "print(f'R = {R} \\nX = {X} \\nB/2 = {B} \\nB = {B*2}') "
   ]
  },
  {
   "cell_type": "markdown",
   "id": "a95e9927-a76e-4faa-84ed-ee962bb8faf9",
   "metadata": {
    "tags": []
   },
   "source": [
    "# Выбор трансформаторов и автотрансформаторов на подстанциях"
   ]
  },
  {
   "cell_type": "code",
   "execution_count": 17,
   "id": "e64a47c7-e472-43a2-b975-96db06e81ea4",
   "metadata": {},
   "outputs": [
    {
     "name": "stdout",
     "output_type": "stream",
     "text": [
      "S''_nb = [72.9 72.9 31.3 41.5 36.7] \n",
      "S_t = [52.1 52.1 29.6 26.2]\n",
      "S_ат_1 = 92.9 \n",
      "S_ат_2 = 52.2\n",
      "S_лрт =  22.4\n"
     ]
    }
   ],
   "source": [
    "k_av = 1.4\n",
    "n_t = 2\n",
    "S_t = np.around(S2_nb / (k_av * (n_t -1)), 1)\n",
    "S_t = np.delete(S_t, 2)\n",
    "print(f\"S''_nb = {S2_nb} \\nS_t = {S_t}\")\n",
    "\n",
    "S_at_1 = np.around((np.sqrt(P_nb[2]**2 + Q2_nb[2]**2) + np.sqrt(P_nb[3]**2 + Q_priv[3]**2) + np.sqrt(P_nb[4]**2 + Q_priv[4]**2)) / (1.2 * (n_t - 1)), 1)\n",
    "S_at_2 = np.around(S2_nb[2] / (1.2 * 0.5 * (n_t - 1)), 1)\n",
    "print(f\"S_ат_1 = {S_at_1} \\nS_ат_2 = {S_at_2}\")\n",
    "\n",
    "S_lrt = np.around(S2_nb[2] / 1.4, 1)\n",
    "print('S_лрт = ', S_lrt)"
   ]
  },
  {
   "cell_type": "markdown",
   "id": "411650de-ff6d-4a46-9e46-e13eae57aeb5",
   "metadata": {},
   "source": [
    "# Выбор рациональной схемы"
   ]
  },
  {
   "cell_type": "code",
   "execution_count": 18,
   "id": "b56b87e4-921a-4761-a2f9-669c9bc0fc69",
   "metadata": {},
   "outputs": [
    {
     "name": "stdout",
     "output_type": "stream",
     "text": [
      "Длина линий =  [41.8 49.2 49.2 41.8]\n",
      "K_ЛЭП =  [211048.2 248410.8 207009.  175873.5] \n",
      "K_ЛЭП_сумма =  842341.5\n"
     ]
    }
   ],
   "source": [
    "#                        K1     K2   13   23\n",
    "K_0_lep_baz = np.array([1188, 1188, 990, 990])\n",
    "L_lep = np.array([Lij[0,1], Lij[0,2], Lij[1,3], Lij[2,3]])\n",
    "k_usl = 1\n",
    "k_zon = 1\n",
    "k_def = 4.25 # коэффициент дефляции на 2010 год\n",
    "\n",
    "K_lep = K_0_lep_baz * k_zon * k_def * k_usl * L_lep\n",
    "print('Длина линий = ', L_lep)\n",
    "print('K_ЛЭП = ', K_lep, '\\nK_ЛЭП_сумма = ', np.sum(K_lep))"
   ]
  },
  {
   "cell_type": "markdown",
   "id": "1d2d36f1-b097-4916-931e-c98d6bbd54b4",
   "metadata": {},
   "source": [
    "## Нагрузочные потери в линиях"
   ]
  },
  {
   "cell_type": "code",
   "execution_count": 19,
   "id": "c28c27a6-c3b5-4a34-adeb-92624a76a309",
   "metadata": {},
   "outputs": [
    {
     "name": "stdout",
     "output_type": "stream",
     "text": [
      "S = [134.9 129.   60.3  54.4  80.2  37.7] \n",
      "R = [3.05 3.59 5.81 4.93 1.53 3.16]\n",
      "Нагрузочные потери =  [1.15 1.23 0.44 0.3  0.81 0.37] \n",
      "Суммарные нагрузочные потери =  4.3\n"
     ]
    }
   ],
   "source": [
    "S = np.around(np.sqrt(P**2 + Q**2), 1)\n",
    "i = 0\n",
    "nagr_poter = np.zeros_like(S)\n",
    "for i in range(len(S)):\n",
    "    if mask_p1c[i]:\n",
    "        nagr_poter[i] = np.around((S[i]**2 * R[i]) / 110**2, 2)\n",
    "    else:\n",
    "        nagr_poter[i] = np.around((S[i]**2 * R[i]) / 220**2, 2)\n",
    "        \n",
    "print(f'S = {S} \\nR = {R}')\n",
    "print('Нагрузочные потери = ', nagr_poter, '\\nСуммарные нагрузочные потери = ', np.sum(nagr_poter))"
   ]
  },
  {
   "cell_type": "markdown",
   "id": "8dcef054-4806-433b-9240-5e9cd9145648",
   "metadata": {},
   "source": [
    "## Основные технико-экономические показатели"
   ]
  },
  {
   "cell_type": "code",
   "execution_count": 20,
   "id": "1d59a79d-69a5-4144-b459-1f36a0ba97c3",
   "metadata": {},
   "outputs": [
    {
     "name": "stdout",
     "output_type": "stream",
     "text": [
      "Длина линий =  [41.8 49.2 49.2 41.8 25.9 25.9]\n",
      "K_ЛЭП =  [211048.2   248410.8   207009.    175873.5   154435.225 126366.1  ] \n",
      "K_ЛЭП_сумма =  1123142.825\n"
     ]
    }
   ],
   "source": [
    "#                        K1     K2   13   23   34     45\n",
    "K_0_lep_baz = np.array([1188, 1188, 990, 990, 1403, 1148])\n",
    "L_lep = np.array([Lij[0,1], Lij[0,2], Lij[1,3], Lij[2,3], Lij[3,4], Lij[4,5]])\n",
    "k_usl = 1\n",
    "k_zon = 1\n",
    "k_def = 4.25 # коэффициент дефляции на 2010 год\n",
    "\n",
    "K_lep = K_0_lep_baz * k_zon * k_def * k_usl * L_lep\n",
    "print('Длина линий = ', L_lep)\n",
    "print('K_ЛЭП = ', K_lep, '\\nK_ЛЭП_сумма = ', np.sum(K_lep))"
   ]
  },
  {
   "cell_type": "code",
   "execution_count": 21,
   "id": "cb581e97-dd7e-4cd7-97be-f6b74d5271e9",
   "metadata": {},
   "outputs": [
    {
     "name": "stdout",
     "output_type": "stream",
     "text": [
      "dP_кор =  [0.02633 0.031   0.05166 0.04389 0.00207 0.00414] \n",
      "dP_кор_сумм =  0.15909\n"
     ]
    }
   ],
   "source": [
    "dP_ud_kor_300 = 0.84\n",
    "dP_ud_kor_120 = 0.08\n",
    "F_a = np.array([400, 400, 240, 240, 240, 120])\n",
    "dP_kor = np.zeros_like(L_kolca)\n",
    "i = 0\n",
    "for i in range (len(L_kolca)):\n",
    "    if mask_p1c[i]:\n",
    "        dP_kor[i] = np.around(dP_ud_kor_120 * 10**(-3) * 120 / F_a[i] * L_kolca[i] * 2, 5)\n",
    "    else:\n",
    "        dP_kor[i] = np.around(dP_ud_kor_300 * 10**(-3) * 300 / F_a[i] * L_kolca[i], 5)\n",
    "print('dP_кор = ', dP_kor, '\\ndP_кор_сумм = ', np.sum(dP_kor))"
   ]
  }
 ],
 "metadata": {
  "kernelspec": {
   "display_name": "Python 3 (ipykernel)",
   "language": "python",
   "name": "python3"
  },
  "language_info": {
   "codemirror_mode": {
    "name": "ipython",
    "version": 3
   },
   "file_extension": ".py",
   "mimetype": "text/x-python",
   "name": "python",
   "nbconvert_exporter": "python",
   "pygments_lexer": "ipython3",
   "version": "3.9.7"
  }
 },
 "nbformat": 4,
 "nbformat_minor": 5
}
