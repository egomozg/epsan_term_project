{
 "cells": [
  {
   "cell_type": "code",
   "execution_count": 2,
   "id": "c29ee103-37fc-4e22-bc31-10f0f0432502",
   "metadata": {},
   "outputs": [],
   "source": [
    "import numpy as np\n",
    "%store -r Q_nb\n",
    "%store -r S_nb\n",
    "%store -r Lij"
   ]
  },
  {
   "cell_type": "code",
   "execution_count": 3,
   "id": "bce1f6e9-ee9f-4e18-a957-c3621347565f",
   "metadata": {},
   "outputs": [],
   "source": [
    "#                 K1      1-3    3-2   3-4   4-5\n",
    "P_1c = np.array([125.3, 119.7, 55.3, 49.7, 37.5])\n",
    "L_lep = np.array([Lij[0, 1], Lij[1, 3], Lij[3, 2], Lij[3, 4], Lij[4, 5]])\n",
    "mask_p1c = [False, False, True, True, True]"
   ]
  },
  {
   "cell_type": "code",
   "execution_count": 9,
   "id": "483a0686-e1fd-4ce5-8847-45774c1682ac",
   "metadata": {},
   "outputs": [
    {
     "name": "stdout",
     "output_type": "stream",
     "text": [
      "Q_treb_1 = 109.8\n",
      "Q_treb_2 = 34.248\n",
      "Q_c = [11.7  13.78  3.01  1.86  1.86]\n"
     ]
    }
   ],
   "source": [
    "k_odn_q = 0.98\n",
    "mask_ps = [False, True, False, True, True]\n",
    "Q_treb_1 = np.sum(Q_nb)\n",
    "print(f'Q_treb_1 = {Q_treb_1}')\n",
    "\n",
    "Q_treb_2 = 0.08 * np.sum(np.where(mask_ps, S_nb * 2, S_nb))\n",
    "print(f'Q_treb_2 = {Q_treb_2}')\n",
    "\n",
    "q_c0_220 = 0.14\n",
    "q_c0_110 = 0.036\n",
    "i = 0\n",
    "Q_c = np.zeros_like(L_lep)\n",
    "for i in range(len(L_lep)):\n",
    "    if mask_p1c[i]:\n",
    "        Q_c[i] = np.around(2 * q_c0_110 * L_lep[i], 2)\n",
    "    else:\n",
    "        Q_c[i] = np.around(2 * q_c0_220 * L_lep[i], 2)\n",
    "print(f'Q_c = {Q_c}')"
   ]
  },
  {
   "cell_type": "code",
   "execution_count": 8,
   "id": "51a06c46-23a8-4a3d-988e-e5f319a679e4",
   "metadata": {},
   "outputs": [
    {
     "name": "stdout",
     "output_type": "stream",
     "text": [
      "delta_Q_l = [10.87 11.68 10.23  5.1   2.91]\n",
      "Q_treb_3 = 8.6 \n",
      "Q_treb_sum = 152.6\n"
     ]
    }
   ],
   "source": [
    "P_nat_220 = 130\n",
    "P_nat_110 = 30\n",
    "i = 0\n",
    "delta_Q_l = np.zeros_like(Q_c)\n",
    "for i in range(len(Q_c)):\n",
    "    if mask_p1c[i] and P_1c[i] > P_nat_110:\n",
    "        delta_Q_l[i] = np.around((P_1c[i] / P_nat_110)**2 * Q_c[i], 2)\n",
    "    elif mask_p1c[i] and P_1c[i] <= P_nat_110:\n",
    "        delta_Q_l[i] = Q_c[i]\n",
    "    else:\n",
    "        delta_Q_l[i] = np.around((P_1c[i] / P_nat_220)**2 * Q_c[i], 2)\n",
    "print(f'delta_Q_l = {delta_Q_l}')\n",
    "\n",
    "Q_treb_3 = np.around(np.sum(delta_Q_l - Q_c), 1)\n",
    "\n",
    "Q_treb_sum = np.around(Q_treb_1 + Q_treb_2 + Q_treb_3, 1)\n",
    "print(f'Q_treb_3 = {Q_treb_3} \\nQ_treb_sum = {Q_treb_sum}')"
   ]
  }
 ],
 "metadata": {
  "kernelspec": {
   "display_name": "Python 3 (ipykernel)",
   "language": "python",
   "name": "python3"
  },
  "language_info": {
   "codemirror_mode": {
    "name": "ipython",
    "version": 3
   },
   "file_extension": ".py",
   "mimetype": "text/x-python",
   "name": "python",
   "nbconvert_exporter": "python",
   "pygments_lexer": "ipython3",
   "version": "3.9.7"
  }
 },
 "nbformat": 4,
 "nbformat_minor": 5
}
