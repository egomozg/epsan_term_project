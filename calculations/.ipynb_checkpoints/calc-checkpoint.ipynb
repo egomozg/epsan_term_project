{
 "cells": [
  {
   "cell_type": "code",
   "execution_count": 1,
   "id": "85863790-5ddc-4919-b08d-f50c56880450",
   "metadata": {},
   "outputs": [],
   "source": [
    "import numpy as np"
   ]
  },
  {
   "cell_type": "code",
   "execution_count": 4,
   "id": "675e15ed-bc66-48f9-a39a-52cf718f2598",
   "metadata": {},
   "outputs": [],
   "source": [
    "P_nb = np.array([70, 70, 30, 40, 35])\n",
    "cos_phi_nb = np.array([0.92, 0.92, 0.91, 0.89, 0.91])"
   ]
  },
  {
   "cell_type": "code",
   "execution_count": 17,
   "id": "d7643a5f-1d86-476e-bcf0-79b3fae75e99",
   "metadata": {},
   "outputs": [
    {
     "name": "stdout",
     "output_type": "stream",
     "text": [
      "tg_phi_nb =  [0.426 0.426 0.456 0.512 0.456] \n",
      " Q_nb =  [29.8 29.8 13.7 20.5 16. ] \n",
      " [76.1 76.1 33.  44.9 38.5]\n"
     ]
    }
   ],
   "source": [
    "tg_phi_nb = np.around(np.tan(np.arccos(cos_phi_nb)), 3)\n",
    "Q_nb = np.around(P_nb * tg_phi_nb, 1)\n",
    "S_nb = np.around(np.sqrt(P_nb**2 + Q_nb**2), 1)\n",
    "print(\"tg_phi_nb = \", tg_phi_nb, \"\\n\", \"Q_nb = \", Q_nb, \"\\n\", \"S_nb = \", S_nb)"
   ]
  }
 ],
 "metadata": {
  "kernelspec": {
   "display_name": "Python 3 (ipykernel)",
   "language": "python",
   "name": "python3"
  },
  "language_info": {
   "codemirror_mode": {
    "name": "ipython",
    "version": 3
   },
   "file_extension": ".py",
   "mimetype": "text/x-python",
   "name": "python",
   "nbconvert_exporter": "python",
   "pygments_lexer": "ipython3",
   "version": "3.9.7"
  }
 },
 "nbformat": 4,
 "nbformat_minor": 5
}
