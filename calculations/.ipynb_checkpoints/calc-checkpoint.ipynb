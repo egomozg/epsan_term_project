{
 "cells": [
  {
   "cell_type": "code",
   "execution_count": 52,
   "id": "85863790-5ddc-4919-b08d-f50c56880450",
   "metadata": {},
   "outputs": [],
   "source": [
    "import numpy as np"
   ]
  },
  {
   "cell_type": "code",
   "execution_count": 6,
   "id": "675e15ed-bc66-48f9-a39a-52cf718f2598",
   "metadata": {},
   "outputs": [],
   "source": [
    "P_nb = np.array([70, 70, 30, 40, 35])\n",
    "cos_phi_nb = np.array([0.92, 0.92, 0.91, 0.89, 0.91])"
   ]
  },
  {
   "cell_type": "code",
   "execution_count": 8,
   "id": "d7643a5f-1d86-476e-bcf0-79b3fae75e99",
   "metadata": {},
   "outputs": [
    {
     "name": "stdout",
     "output_type": "stream",
     "text": [
      "tg_phi_nb =  [0.426 0.426 0.456 0.512 0.456] \n",
      " Q_nb =  [29.8 29.8 13.7 20.5 16. ] \n",
      " S_nb =  [76.1 76.1 33.  44.9 38.5]\n"
     ]
    }
   ],
   "source": [
    "tg_phi_nb = np.around(np.tan(np.arccos(cos_phi_nb)), 3)\n",
    "Q_nb = np.around(P_nb * tg_phi_nb, 1)\n",
    "S_nb = np.around(np.sqrt(P_nb**2 + Q_nb**2), 1)\n",
    "print(\"tg_phi_nb = \", tg_phi_nb, \"\\n\", \"Q_nb = \", Q_nb, \"\\n\", \"S_nb = \", S_nb)"
   ]
  },
  {
   "cell_type": "code",
   "execution_count": 9,
   "id": "bfe8ec5e-0f7c-458d-b6c6-691323acb169",
   "metadata": {},
   "outputs": [
    {
     "data": {
      "text/plain": [
       "58.0"
      ]
     },
     "execution_count": 9,
     "metadata": {},
     "output_type": "execute_result"
    }
   ],
   "source": [
    "lijm = np.array([[0, 3.606, 4.243, 0, 0, 0],\n",
    "                 [3.606, 0, 5, 4.243, 5.385, 0],\n",
    "                 [4.243, 5, 0, 3.606, 0, 0],\n",
    "                 [0, 4.243, 3.606, 0, 2.236, 4],\n",
    "                 [0, 5.385, 0, 2.236, 0, 2.236],\n",
    "                 [0, 0, 0, 4, 2.236, 0]])\n",
    "k_udl = 1.16\n",
    "Lij = np.around(lijm * k_udl * 10, 1)\n",
    "Lij[2, 1]"
   ]
  },
  {
   "cell_type": "code",
   "execution_count": 102,
   "id": "01c64e45-ea87-41aa-ae55-7d42aeae2cdf",
   "metadata": {},
   "outputs": [],
   "source": [
    "tg_phi_pred = 0.4\n",
    "Q_com_dev = P_nb * (tg_phi_nb - tg_phi_pred)\n",
    "def bsk_mvar(Q_com_dev):\n",
    "    i = 0\n",
    "    Q_bsk = 0\n",
    "    n = np.ceil(Q_com_dev/1.2)\n",
    "    for i in range(len(Q_com_dev)):\n",
    "        if Q_com_dev[i] % 1.2 == 0 and Q_com_dev[i] / 1.2 % 2 == 0:\n",
    "            Q_bsk = np.append(Q_bsk, Q_com_dev[i])\n",
    "        elif n[i] % 2 == 0:\n",
    "            Q_bsk = np.append(Q_bsk, n[i] * 1.2)\n",
    "        else:\n",
    "            n[i] += 1\n",
    "            Q_bsk = np.append(Q_bsk, n[i] * 1.2)\n",
    "    Q_bsk = np.delete(Q_bsk, 0)\n",
    "    return Q_bsk"
   ]
  },
  {
   "cell_type": "code",
   "execution_count": 113,
   "id": "336f8b5a-3660-4413-9022-0677be6aea09",
   "metadata": {},
   "outputs": [
    {
     "name": "stdout",
     "output_type": "stream",
     "text": [
      "Q_com_dev =  [1.82 1.82 1.68 4.48 1.96] \n",
      "Sum =  11.8\n"
     ]
    }
   ],
   "source": [
    "print(\"Q_com_dev = \", Q_com_dev, \"\\nSum = \", np.around(np.sum(Q_com_dev), 1))"
   ]
  },
  {
   "cell_type": "code",
   "execution_count": 111,
   "id": "ae7df4a4-2653-4585-939f-8ea853ed98d7",
   "metadata": {},
   "outputs": [
    {
     "name": "stdout",
     "output_type": "stream",
     "text": [
      "[2. 2. 2. 4. 2.]\n"
     ]
    }
   ],
   "source": [
    "print(np.ceil(Q_com_dev/1.2))"
   ]
  },
  {
   "cell_type": "code",
   "execution_count": 114,
   "id": "d97faa5a-9633-4bb2-9d4c-1821a81c676d",
   "metadata": {},
   "outputs": [
    {
     "name": "stdout",
     "output_type": "stream",
     "text": [
      "Q_bsk =  [2.4 2.4 2.4 4.8 2.4] \n",
      "Sum =  14.4\n"
     ]
    }
   ],
   "source": [
    "print(\"Q_bsk = \", Q_bsk, \"\\nSum = \", np.around(np.sum(Q_bsk), 1))"
   ]
  },
  {
   "cell_type": "code",
   "execution_count": 107,
   "id": "9e27a8ae-4fe8-4809-b46e-cbb155f222f3",
   "metadata": {},
   "outputs": [
    {
     "data": {
      "text/plain": [
       "array([27.4, 27.4, 11.3, 15.7, 13.6])"
      ]
     },
     "execution_count": 107,
     "metadata": {},
     "output_type": "execute_result"
    }
   ],
   "source": [
    "print(\"Q_nb_i = \", Q_nb_i, \"\\nSum = \", np.around(np.sum(Q_nb_i), 1))"
   ]
  }
 ],
 "metadata": {
  "kernelspec": {
   "display_name": "Python 3 (ipykernel)",
   "language": "python",
   "name": "python3"
  },
  "language_info": {
   "codemirror_mode": {
    "name": "ipython",
    "version": 3
   },
   "file_extension": ".py",
   "mimetype": "text/x-python",
   "name": "python",
   "nbconvert_exporter": "python",
   "pygments_lexer": "ipython3",
   "version": "3.9.7"
  }
 },
 "nbformat": 4,
 "nbformat_minor": 5
}
